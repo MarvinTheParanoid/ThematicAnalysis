{
 "cells": [
  {
   "cell_type": "markdown",
   "id": "b77f3448-b95b-49a1-bede-364e902a32e0",
   "metadata": {},
   "source": [
    "# Clustering\n",
    "\n",
    "I wanted to do a very quick test to see if embedding and clustering looked like a viable approach. However, I abandoned it quickly—an interesting idea, but getting it to work well would require a lot more work and research than I wanted to put into it right now.\n",
    "\n",
    "**Basic Approach:**\n",
    "- Embed responses.\n",
    "- Run a clustering algorithm to group similar responses.\n",
    "- Convert groups of responses into a theme.\n",
    "\n",
    "**Improvments:**\n",
    "A few things which might help improve responses...\n",
    "- Splitting responses that cover multiple topics (or test it on codes).\n",
    "- Trying a different clustering algorithm (K-means is fast, and the paper suggested it, but I'm not convinced it's the best for this use case).\n",
    "- Dimensionality reduction.\n",
    "- Using a vector database.\n",
    "\n",
    "And, of course, all the other changes needed to make this work with large datasets. But at that point, re-architecting would be a better approach.\n",
    "\n",
    "**Resources:**\n",
    "- [Text Clustering with Large Language Model\n",
    "Embeddings](https://arxiv.org/pdf/2403.15112)"
   ]
  },
  {
   "cell_type": "code",
   "execution_count": 91,
   "id": "c93832f3-7f14-4189-8b62-88ec9b392fd7",
   "metadata": {},
   "outputs": [],
   "source": [
    "import requests\n",
    "import polars as pl\n",
    "from functools import partial\n",
    "from pathlib import Path\n",
    "from IPython.display import Markdown\n",
    "\n",
    "from thematic_analysis.utils.cleaning import clean_answers\n",
    "from thematic_analysis.llm import get_llm_client, get_embeddings\n",
    "from thematic_analysis.utils.embeddings import embed_column"
   ]
  },
  {
   "cell_type": "code",
   "execution_count": 92,
   "id": "1873d2d8-bdbb-4430-8d67-ffbda0009074",
   "metadata": {},
   "outputs": [
    {
     "data": {
      "text/html": [
       "<div><style>\n",
       ".dataframe > thead > tr,\n",
       ".dataframe > tbody > tr {\n",
       "  text-align: right;\n",
       "  white-space: pre-wrap;\n",
       "}\n",
       "</style>\n",
       "<small>shape: (5, 2)</small><table border=\"1\" class=\"dataframe\"><thead><tr><th>id</th><th>answer</th></tr><tr><td>str</td><td>str</td></tr></thead><tbody><tr><td>&quot;94f2d4c3-b513-411c-b505-a11290…</td><td>&quot;The customer service that your…</td></tr><tr><td>&quot;1797c6f2-c501-44b7-b549-a33c29…</td><td>&quot;I would complain about how mor…</td></tr><tr><td>&quot;20e1a746-8311-450b-ba54-62d15f…</td><td>&quot;Why do you quit taking cash at…</td></tr><tr><td>&quot;234eb679-ffb8-4e5e-a45a-e50a7c…</td><td>&quot;You don&#x27;t just go into Walmart…</td></tr><tr><td>&quot;511293b3-42e1-4712-a3a9-8838e0…</td><td>&quot;East Waco needs a Walmart neig…</td></tr></tbody></table></div>"
      ],
      "text/plain": [
       "shape: (5, 2)\n",
       "┌─────────────────────────────────┬─────────────────────────────────┐\n",
       "│ id                              ┆ answer                          │\n",
       "│ ---                             ┆ ---                             │\n",
       "│ str                             ┆ str                             │\n",
       "╞═════════════════════════════════╪═════════════════════════════════╡\n",
       "│ 94f2d4c3-b513-411c-b505-a11290… ┆ The customer service that your… │\n",
       "│ 1797c6f2-c501-44b7-b549-a33c29… ┆ I would complain about how mor… │\n",
       "│ 20e1a746-8311-450b-ba54-62d15f… ┆ Why do you quit taking cash at… │\n",
       "│ 234eb679-ffb8-4e5e-a45a-e50a7c… ┆ You don't just go into Walmart… │\n",
       "│ 511293b3-42e1-4712-a3a9-8838e0… ┆ East Waco needs a Walmart neig… │\n",
       "└─────────────────────────────────┴─────────────────────────────────┘"
      ]
     },
     "execution_count": 92,
     "metadata": {},
     "output_type": "execute_result"
    }
   ],
   "source": [
    "df = pl.read_csv(Path(\"../data/wallmart.csv\"))\n",
    "\n",
    "question = df.columns[2]\n",
    "df = df.select([\"Session ID\", question]).rename({\n",
    "    \"Session ID\" : \"id\",\n",
    "    question : \"answer\"\n",
    "})\n",
    "df = clean_answers(df)\n",
    "\n",
    "df.head()"
   ]
  },
  {
   "cell_type": "code",
   "execution_count": 93,
   "id": "abf67faf-cac9-43be-bf94-8191b8585fd3",
   "metadata": {},
   "outputs": [],
   "source": [
    "df = await embed_column(df, \"answer\")"
   ]
  },
  {
   "cell_type": "code",
   "execution_count": 94,
   "id": "8c1875dd-03ba-4b99-b11f-02ac6dd81094",
   "metadata": {},
   "outputs": [
    {
     "data": {
      "text/html": [
       "<div><style>\n",
       ".dataframe > thead > tr,\n",
       ".dataframe > tbody > tr {\n",
       "  text-align: right;\n",
       "  white-space: pre-wrap;\n",
       "}\n",
       "</style>\n",
       "<small>shape: (5, 3)</small><table border=\"1\" class=\"dataframe\"><thead><tr><th>id</th><th>answer</th><th>answer_embedding</th></tr><tr><td>str</td><td>str</td><td>list[f64]</td></tr></thead><tbody><tr><td>&quot;94f2d4c3-b513-411c-b505-a11290…</td><td>&quot;The customer service that your…</td><td>[0.034766, -0.001419, … 0.009692]</td></tr><tr><td>&quot;1797c6f2-c501-44b7-b549-a33c29…</td><td>&quot;I would complain about how mor…</td><td>[-0.04273, 0.035613, … 0.033576]</td></tr><tr><td>&quot;20e1a746-8311-450b-ba54-62d15f…</td><td>&quot;Why do you quit taking cash at…</td><td>[0.012912, -0.024059, … 0.003538]</td></tr><tr><td>&quot;234eb679-ffb8-4e5e-a45a-e50a7c…</td><td>&quot;You don&#x27;t just go into Walmart…</td><td>[-0.006762, 0.030485, … 0.011957]</td></tr><tr><td>&quot;511293b3-42e1-4712-a3a9-8838e0…</td><td>&quot;East Waco needs a Walmart neig…</td><td>[-0.051505, 0.001391, … 0.018833]</td></tr></tbody></table></div>"
      ],
      "text/plain": [
       "shape: (5, 3)\n",
       "┌──────────────────────────────────┬─────────────────────────────┬─────────────────────────────────┐\n",
       "│ id                               ┆ answer                      ┆ answer_embedding                │\n",
       "│ ---                              ┆ ---                         ┆ ---                             │\n",
       "│ str                              ┆ str                         ┆ list[f64]                       │\n",
       "╞══════════════════════════════════╪═════════════════════════════╪═════════════════════════════════╡\n",
       "│ 94f2d4c3-b513-411c-b505-a11290…  ┆ The customer service that   ┆ [0.034766, -0.001419, … 0.0096… │\n",
       "│                                  ┆ your…                       ┆                                 │\n",
       "│ 1797c6f2-c501-44b7-b549-a33c29…  ┆ I would complain about how  ┆ [-0.04273, 0.035613, … 0.03357… │\n",
       "│                                  ┆ mor…                        ┆                                 │\n",
       "│ 20e1a746-8311-450b-ba54-62d15f…  ┆ Why do you quit taking cash ┆ [0.012912, -0.024059, … 0.0035… │\n",
       "│                                  ┆ at…                         ┆                                 │\n",
       "│ 234eb679-ffb8-4e5e-a45a-e50a7c…  ┆ You don't just go into      ┆ [-0.006762, 0.030485, … 0.0119… │\n",
       "│                                  ┆ Walmart…                    ┆                                 │\n",
       "│ 511293b3-42e1-4712-a3a9-8838e0…  ┆ East Waco needs a Walmart   ┆ [-0.051505, 0.001391, … 0.0188… │\n",
       "│                                  ┆ neig…                       ┆                                 │\n",
       "└──────────────────────────────────┴─────────────────────────────┴─────────────────────────────────┘"
      ]
     },
     "execution_count": 94,
     "metadata": {},
     "output_type": "execute_result"
    }
   ],
   "source": [
    "df.head()"
   ]
  },
  {
   "cell_type": "code",
   "execution_count": 95,
   "id": "e8628ffc-c47d-45ca-933a-044738d598a2",
   "metadata": {},
   "outputs": [],
   "source": [
    "from sklearn.cluster import HDBSCAN"
   ]
  },
  {
   "cell_type": "code",
   "execution_count": 96,
   "id": "a972bf68-5472-47b2-9eee-d61978b7cc32",
   "metadata": {},
   "outputs": [],
   "source": [
    "import numpy as np\n",
    "\n",
    "embeddings = df[\"answer_embedding\"].to_numpy()\n",
    "embeddings = np.vstack(embeddings).astype(np.float64)"
   ]
  },
  {
   "cell_type": "code",
   "execution_count": 97,
   "id": "8105ac1c-e345-49dd-9b57-b553fb9e1fc4",
   "metadata": {},
   "outputs": [
    {
     "data": {
      "text/plain": [
       "253"
      ]
     },
     "execution_count": 97,
     "metadata": {},
     "output_type": "execute_result"
    }
   ],
   "source": [
    "embeddings.shape[0]"
   ]
  },
  {
   "cell_type": "code",
   "execution_count": 110,
   "id": "2e188a82-b74a-4e7d-93e8-95a1f015a189",
   "metadata": {},
   "outputs": [],
   "source": [
    "min_cluster_size = max(2, int(0.05 * embeddings.shape[0])) * 2\n",
    "clusterer = HDBSCAN(min_cluster_size=5, metric=\"cosine\", cluster_selection_epsilon=0.0)"
   ]
  },
  {
   "cell_type": "code",
   "execution_count": 111,
   "id": "33c690e9-36f9-473d-b62f-e3adbe83b3f2",
   "metadata": {},
   "outputs": [
    {
     "data": {
      "text/plain": [
       "24"
      ]
     },
     "execution_count": 111,
     "metadata": {},
     "output_type": "execute_result"
    }
   ],
   "source": [
    "min_cluster_size"
   ]
  },
  {
   "cell_type": "code",
   "execution_count": 112,
   "id": "e8239637-3e96-453f-a874-beea835c2dc4",
   "metadata": {},
   "outputs": [],
   "source": [
    "cluster_labels = clusterer.fit_predict(embeddings)"
   ]
  },
  {
   "cell_type": "code",
   "execution_count": 113,
   "id": "647b0537-2785-4dfc-8537-bb7258dbb73e",
   "metadata": {},
   "outputs": [
    {
     "data": {
      "text/plain": [
       "array([-1, -1, -1, -1, -1,  0,  1, -1, -1, -1, -1, -1, -1,  0, -1, -1,  0,\n",
       "       -1, -1, -1, -1, -1, -1, -1,  0, -1, -1, -1, -1, -1, -1,  0, -1, -1,\n",
       "       -1,  1,  0,  1,  0, -1, -1,  0, -1, -1, -1, -1, -1,  1, -1, -1,  0,\n",
       "        0, -1, -1, -1,  0, -1,  0, -1,  0, -1, -1, -1, -1, -1,  0,  0,  0,\n",
       "        0,  0, -1, -1, -1, -1, -1, -1,  0, -1, -1, -1, -1, -1, -1, -1,  0,\n",
       "       -1, -1, -1,  1, -1,  0, -1,  0, -1, -1, -1,  0, -1,  0, -1, -1, -1,\n",
       "       -1, -1,  1, -1,  0, -1, -1, -1, -1, -1, -1, -1, -1, -1, -1, -1, -1,\n",
       "        0, -1,  0,  0, -1, -1, -1, -1, -1,  0, -1, -1, -1, -1, -1, -1, -1,\n",
       "       -1,  0,  0, -1, -1,  0, -1,  0,  0,  1, -1, -1, -1,  0, -1, -1,  0,\n",
       "       -1, -1, -1,  0, -1, -1, -1,  0, -1, -1,  0,  0, -1, -1,  0, -1,  0,\n",
       "       -1,  0, -1, -1, -1, -1,  0, -1,  0, -1, -1, -1, -1, -1, -1, -1, -1,\n",
       "       -1, -1, -1, -1, -1, -1, -1, -1, -1, -1,  0, -1, -1, -1, -1, -1, -1,\n",
       "       -1, -1, -1, -1, -1,  1, -1, -1, -1,  0,  0, -1,  0, -1, -1, -1,  0,\n",
       "       -1, -1,  0,  0,  0,  0, -1,  0,  0, -1, -1, -1, -1, -1, -1, -1,  0,\n",
       "        0, -1, -1, -1, -1,  1, -1, -1,  0,  0, -1,  0, -1, -1, -1])"
      ]
     },
     "execution_count": 113,
     "metadata": {},
     "output_type": "execute_result"
    }
   ],
   "source": [
    "cluster_labels"
   ]
  },
  {
   "cell_type": "code",
   "execution_count": 114,
   "id": "2d254d18-088d-4375-9e78-c1195cd5818b",
   "metadata": {},
   "outputs": [],
   "source": [
    "df = df.with_columns(\n",
    "    pl.Series(name=\"cluster\", values=cluster_labels)\n",
    ")"
   ]
  },
  {
   "cell_type": "code",
   "execution_count": 115,
   "id": "03bb24fa-ebdc-4f15-9e5b-91b8862fd0e7",
   "metadata": {},
   "outputs": [
    {
     "data": {
      "text/html": [
       "<div><style>\n",
       ".dataframe > thead > tr,\n",
       ".dataframe > tbody > tr {\n",
       "  text-align: right;\n",
       "  white-space: pre-wrap;\n",
       "}\n",
       "</style>\n",
       "<small>shape: (3, 2)</small><table border=\"1\" class=\"dataframe\"><thead><tr><th>cluster</th><th>answer</th></tr><tr><td>i64</td><td>u32</td></tr></thead><tbody><tr><td>0</td><td>61</td></tr><tr><td>1</td><td>9</td></tr><tr><td>-1</td><td>183</td></tr></tbody></table></div>"
      ],
      "text/plain": [
       "shape: (3, 2)\n",
       "┌─────────┬────────┐\n",
       "│ cluster ┆ answer │\n",
       "│ ---     ┆ ---    │\n",
       "│ i64     ┆ u32    │\n",
       "╞═════════╪════════╡\n",
       "│ 0       ┆ 61     │\n",
       "│ 1       ┆ 9      │\n",
       "│ -1      ┆ 183    │\n",
       "└─────────┴────────┘"
      ]
     },
     "execution_count": 115,
     "metadata": {},
     "output_type": "execute_result"
    }
   ],
   "source": [
    "df.group_by(\"cluster\").agg(\n",
    "    pl.col(\"answer\").count()\n",
    ")"
   ]
  },
  {
   "cell_type": "code",
   "execution_count": null,
   "id": "fc06e8c9-7525-4eb4-af1d-7423b43549a4",
   "metadata": {},
   "outputs": [],
   "source": []
  }
 ],
 "metadata": {
  "kernelspec": {
   "display_name": "Python 3 (ipykernel)",
   "language": "python",
   "name": "python3"
  },
  "language_info": {
   "codemirror_mode": {
    "name": "ipython",
    "version": 3
   },
   "file_extension": ".py",
   "mimetype": "text/x-python",
   "name": "python",
   "nbconvert_exporter": "python",
   "pygments_lexer": "ipython3",
   "version": "3.13.2"
  }
 },
 "nbformat": 4,
 "nbformat_minor": 5
}
