{
 "cells": [
  {
   "cell_type": "markdown",
   "id": "1693e7c9-8b61-4ecb-9275-98a291a9a8c2",
   "metadata": {},
   "source": [
    "# Hierarchical coding frames"
   ]
  },
  {
   "cell_type": "markdown",
   "id": "1c8da0b0-361e-47d1-9c15-ef52f9f932f0",
   "metadata": {},
   "source": [
    "## Takeaways:\n",
    "\n",
    "\n",
    "- sentiment seems to be accurate, even for reponses with mixed sentiements.\n",
    "- including topic and specific_theme helps get a good level of specificity\n",
    "- I tried getting it to return a list of codes per row, and returning an response id per code, but this didn't show any improvement over just asking for a single list fo codes\n",
    "\n",
    "- Maybe using shorter ids would be better?"
   ]
  },
  {
   "cell_type": "markdown",
   "id": "bbdc54c3-d5a0-4f8b-b3b8-7405e309ecb3",
   "metadata": {},
   "source": [
    "## Main resources used:\n",
    "- https://journals.sagepub.com/doi/10.1177/08944393231220483\n",
    "- https://fastercapital.com/content/Thematic-Analysis--Uncovering-Patterns--Thematic-Analysis-in-Qualitative-Research.html#\n",
    "- https://getthematic.com/insights/coding-qualitative-data/"
   ]
  },
  {
   "cell_type": "markdown",
   "id": "21cb1ba1-3884-4c13-9eb2-d0ee635e734e",
   "metadata": {},
   "source": [
    "## Setup"
   ]
  },
  {
   "cell_type": "code",
   "execution_count": 47,
   "id": "a741e55e-b8a6-42f1-ac86-761a9b4d9fcc",
   "metadata": {},
   "outputs": [],
   "source": [
    "import asyncio\n",
    "import polars as pl\n",
    "from pathlib import Path\n",
    "from typing import Literal, List, Iterable\n",
    "from pydantic import BaseModel, Field\n",
    "from thematic_analysis.llm import get_chat_completion_structured\n",
    "from thematic_analysis.types import UserMessage, SystemMessage\n",
    "from thematic_analysis.utils.cleaning import clean_answers, format_list"
   ]
  },
  {
   "cell_type": "code",
   "execution_count": 73,
   "id": "d93f8fe7-1252-4b34-9a40-9f7fe099f7fd",
   "metadata": {},
   "outputs": [
    {
     "data": {
      "text/html": [
       "<div><style>\n",
       ".dataframe > thead > tr,\n",
       ".dataframe > tbody > tr {\n",
       "  text-align: right;\n",
       "  white-space: pre-wrap;\n",
       "}\n",
       "</style>\n",
       "<small>shape: (2, 2)</small><table border=\"1\" class=\"dataframe\"><thead><tr><th>id</th><th>answer</th></tr><tr><td>str</td><td>str</td></tr></thead><tbody><tr><td>&quot;94f2d4c3-b513-411c-b505-a11290…</td><td>&quot;The customer service that your…</td></tr><tr><td>&quot;1797c6f2-c501-44b7-b549-a33c29…</td><td>&quot;I would complain about how mor…</td></tr></tbody></table></div>"
      ],
      "text/plain": [
       "shape: (2, 2)\n",
       "┌─────────────────────────────────┬─────────────────────────────────┐\n",
       "│ id                              ┆ answer                          │\n",
       "│ ---                             ┆ ---                             │\n",
       "│ str                             ┆ str                             │\n",
       "╞═════════════════════════════════╪═════════════════════════════════╡\n",
       "│ 94f2d4c3-b513-411c-b505-a11290… ┆ The customer service that your… │\n",
       "│ 1797c6f2-c501-44b7-b549-a33c29… ┆ I would complain about how mor… │\n",
       "└─────────────────────────────────┴─────────────────────────────────┘"
      ]
     },
     "execution_count": 73,
     "metadata": {},
     "output_type": "execute_result"
    }
   ],
   "source": [
    "# Read in DF, pick a question column, and clean the answers\n",
    "df = pl.read_csv(Path(\"../data/wallmart.csv\"))\n",
    "\n",
    "question = df.columns[2]\n",
    "df = df.select([\"Session ID\", question]).rename({\n",
    "    \"Session ID\" : \"id\",\n",
    "    question : \"answer\"\n",
    "})\n",
    "df = clean_answers(df)\n",
    "df.head(2)"
   ]
  },
  {
   "cell_type": "markdown",
   "id": "52d99be1-85f5-433f-80d9-da79efd75045",
   "metadata": {},
   "source": [
    "## Initial Coding\n",
    "Goal: play around with the outout models and prompts to see what works"
   ]
  },
  {
   "cell_type": "code",
   "execution_count": 74,
   "id": "a719d113-b3a1-4e41-bccf-9d5cb6c90e3c",
   "metadata": {},
   "outputs": [],
   "source": [
    "# Create output models\n",
    "\n",
    "class Code(BaseModel):\n",
    "    response_id: str = Field(..., description=\"The id of the response this code was generated from.\")\n",
    "    topic: str = Field(..., description=\"The broad subject of the response (e.g., 'Customer Service', 'Pricing').\")\n",
    "    sentiment: Literal[\"positive\", \"negative\", \"neutral\"] = Field(\n",
    "        ..., description=\"The sentiment of the response related to the topic.\"\n",
    "    )\n",
    "    specific_theme: str = Field(..., description=\"A specific attribute or issue described in the response.\")\n",
    "\n",
    "class ReponseCodes(BaseModel):\n",
    "    # scratch_pad: str = Field(..., description=\"A areas for outputting your reasoning when generating codes.\")\n",
    "    codes: List[Code] = Field(..., description=\"A list of codes generated from survey responses.\")\n",
    "\n",
    "    def __str__(self) -> str:\n",
    "        # Show each code on a new line.\n",
    "        cls_name = self.__class__.__name__\n",
    "        codes = \"\\n\".join(self.codes)\n",
    "        return f\"{cls_name}(\\n{codes}\\n)\""
   ]
  },
  {
   "cell_type": "code",
   "execution_count": 75,
   "id": "09a88494-b1cc-43ce-b178-27f16f4b3e77",
   "metadata": {},
   "outputs": [],
   "source": [
    "# Format responses\n",
    "def format_list(responses: Iterable[str], ids: Iterable[str]) -> str:\n",
    "    \"\"\"\n",
    "    Format the answers of a ThemeRequest for a prompt.\n",
    "    \"\"\"\n",
    "    formatted_responses = [\n",
    "        f\"(id={r_id}, response={response})\"\n",
    "        for r_id, response\n",
    "        in zip(responses, ids)\n",
    "    ]\n",
    "    return \"\\n\".join(formatted_responses)\n",
    "\n",
    "formatted_answers = format_list(df[\"answer\"], df[\"id\"])"
   ]
  },
  {
   "cell_type": "code",
   "execution_count": 76,
   "id": "fe1400e1-b2a0-4cb8-8b55-bad1af26e11c",
   "metadata": {},
   "outputs": [],
   "source": [
    "# Create prompts for inital codes\n",
    "\n",
    "instructions = \"\"\"\n",
    "You are an expert in qualitative analysis.\n",
    "\n",
    "You will be given a survey question and a list of responses. Your task is to categorize each response into one or more codes based on the topics it covers.\n",
    "\n",
    "# **Instructions**:\n",
    "\n",
    "For each response, follow these steps:\n",
    "\n",
    "1. Identify the main topics mentioned in the response.\n",
    "2. For each topic, determine:\n",
    "    - Sentiment: Classify as positive, negative, or neutral based on the tone, wording, and context of the question.\n",
    "    - Specific Theme: Create a clear, concise phrase capturing the core issue or attribute described.\n",
    "3. Generate a code for each topic using the identified sentiment and theme.\n",
    "4. Repeat this process until at least one code is assigned to each response.\n",
    "\n",
    "# **Example**:\n",
    "\n",
    "Reponse: \"The product was fine, but the pricing felt a little high compared to competitors.\"\n",
    "\n",
    "Generated codes:\n",
    "```\n",
    "[\n",
    "    {\n",
    "        \"topic\": \"Product\",\n",
    "        \"sentiment\": \"neutral\",\n",
    "        \"specific_theme\": \"Acceptable quality\"\n",
    "    },\n",
    "    {\n",
    "        \"topic\": \"Pricing\",\n",
    "        \"sentiment\": \"negative\",\n",
    "        \"specific_theme\": \"Higher than competitors\"\n",
    "    }\n",
    "]\n",
    "```\n",
    "\n",
    "# **Guidelines**:\n",
    "- If a response mentions multiple topics, generate separate codes for each one.\n",
    "- If a topic expresses mixed sentiments, create a separate code for each sentiment.\n",
    "- Ensure specific themes are precise and meaningful (e.g., \"Difficult refund process\" instead of just \"Refunds\").\n",
    "- If a response is too vague, use \"General feedback\" as the topic.\n",
    "- One response can generate one or more codes.\n",
    "\n",
    "You are now going to be given a the survey question and a list of the responses to code.\n",
    "\"\"\"\n",
    "\n",
    "survey_responses = \"\"\"\n",
    "# **Question**:\n",
    "> \"{question}\"\n",
    "\n",
    "\n",
    "# **Responses**:\n",
    "{formatted_answers}\n",
    "\"\"\""
   ]
  },
  {
   "cell_type": "code",
   "execution_count": 77,
   "id": "0b919165-bb3d-4295-8ad4-0ddf391a416b",
   "metadata": {},
   "outputs": [],
   "source": [
    "# Call the LLM\n",
    "prompts = [\n",
    "    SystemMessage(content=instructions),\n",
    "    UserMessage(content=survey_responses.format(question=question, formatted_answers=formatted_answers))\n",
    "]\n",
    "response = await get_chat_completion_structured(prompts, ReponseCodes)"
   ]
  },
  {
   "cell_type": "code",
   "execution_count": 78,
   "id": "4ecf2502-e833-4ff9-ac31-812ac65ea902",
   "metadata": {},
   "outputs": [
    {
     "name": "stdout",
     "output_type": "stream",
     "text": [
      "Number of survey responses: 253\n",
      "Number of codes returned: 144\n",
      "Number of unique ids: 144\n"
     ]
    }
   ],
   "source": [
    "# Check basic numbers\n",
    "\n",
    "print(f\"Number of survey responses: {df.shape[0]}\")\n",
    "print(f\"Number of codes returned: {len(response.codes)}\")\n",
    "\n",
    "unqiue_ids = set([code.response_id for code in response.codes])\n",
    "print(f\"Number of unique ids: {len(unqiue_ids)}\")"
   ]
  },
  {
   "cell_type": "markdown",
   "id": "759df87f-f3e5-4600-8f47-d14320b7fd28",
   "metadata": {},
   "source": [
    "### Test batching\n",
    "Goal: check if the model does better when less responses"
   ]
  },
  {
   "cell_type": "code",
   "execution_count": 89,
   "id": "10868f3a-3741-46db-83b3-2ff365712606",
   "metadata": {},
   "outputs": [],
   "source": [
    "async def process_batch(batch: pl.DataFrame):\n",
    "    print(f\"Processing {batch.shape[0]} rows...\")\n",
    "    formatted_responses = format_list(batch[\"answer\"], batch[\"id\"])\n",
    "    prompts = [\n",
    "        SystemMessage(content=instructions),\n",
    "        UserMessage(content=survey_responses.format(question=question, formatted_answers=formatted_responses))\n",
    "    ]\n",
    "    return await get_chat_completion_structured(prompts, ReponseCodes)"
   ]
  },
  {
   "cell_type": "code",
   "execution_count": 90,
   "id": "547b350f-f5f0-4a88-9f52-f80d64f274de",
   "metadata": {},
   "outputs": [
    {
     "name": "stdout",
     "output_type": "stream",
     "text": [
      "Processing 50 rows...\n",
      "Processing 50 rows...\n",
      "Processing 50 rows...\n",
      "Processing 50 rows...\n",
      "Processing 50 rows...\n",
      "Processing 3 rows...\n"
     ]
    }
   ],
   "source": [
    "BTACH_SIZE = 50\n",
    "\n",
    "# TODO: create functon to generates balanced batches given a max size (or just check itertools...)\n",
    "batched_response_futures = [\n",
    "    process_batch(df.slice(start, BTACH_SIZE))\n",
    "    for start in range(0, df.height, BTACH_SIZE)\n",
    "]\n",
    "batched_responses = await asyncio.gather(*batched_response_futures)"
   ]
  },
  {
   "cell_type": "code",
   "execution_count": 132,
   "id": "b93f82c5-e4f8-4404-b9ee-f7fa767f7925",
   "metadata": {},
   "outputs": [
    {
     "name": "stdout",
     "output_type": "stream",
     "text": [
      "Number of survey responses: 253\n",
      "Responses in each batch: [50, 51, 50, 52, 49, 6], Total codes: 258\n",
      "Number of unique ids: 251\n"
     ]
    }
   ],
   "source": [
    "# Check basic numbers\n",
    "\n",
    "print(f\"Number of survey responses: {df.shape[0]}\")\n",
    "\n",
    "response_code_numbers = [len(response.codes) for response in batched_responses]\n",
    "print(f\"Responses in each batch: {response_code_numbers}, Total codes: {sum(response_code_numbers)}\")\n",
    "\n",
    "all_ids = [code.response_id for response_codes in batched_responses for code in response_codes.codes]\n",
    "print(f\"Number of unique ids: {len(set(all_ids))}\")"
   ]
  },
  {
   "cell_type": "markdown",
   "id": "7ebd516e-a788-4254-8634-6d37de41ee83",
   "metadata": {},
   "source": [
    "### Check ids\n",
    "Goal: get a sense of how wells using ids works."
   ]
  },
  {
   "cell_type": "code",
   "execution_count": 102,
   "id": "63211d89-3d6a-496c-9c58-9e3735dc0ade",
   "metadata": {},
   "outputs": [],
   "source": [
    "real_ids = set(df[\"id\"])\n",
    "returned_ids = set(all_ids)"
   ]
  },
  {
   "cell_type": "code",
   "execution_count": 107,
   "id": "a7adde67-a135-4911-8edc-95e37da83e21",
   "metadata": {},
   "outputs": [
    {
     "name": "stdout",
     "output_type": "stream",
     "text": [
      "Number of returned ids that match ids in the df: 249\n",
      "Number of made up ids: 2\n",
      "Number of missed ids: 4\n",
      "Made up:\n",
      "{'e97b337c-d73b-4949-937e-d28db451a024', '5c070d8d-08bf-44b6-9b6d-4eb282e56530'}\n",
      "Missed:\n",
      "{'5c070d8d-08bf-44ac-9b6d-4eb282e56530', 'b8f3432f-bb8e-4e69-8ee8-d0f236dd5bc3', 'e97b337c-d73c-4949-937e-d28db451a024', 'b90b66ce-4b2a-4547-a4e8-1bc9eabde81f'}\n"
     ]
    }
   ],
   "source": [
    "# Check intersection\n",
    "print(f\"Number of returned ids that match ids in the df: {len(real_ids & returned_ids)}\")\n",
    "print(f\"Number of made up ids: {len(returned_ids - real_ids)}\")\n",
    "print(f\"Number of missed ids: {len(real_ids - returned_ids)}\")\n",
    "\n",
    "print(f\"Made up:\")\n",
    "print(returned_ids - real_ids)\n",
    "print(f\"Missed:\")\n",
    "print(real_ids - returned_ids)"
   ]
  },
  {
   "cell_type": "markdown",
   "id": "80bf6c4e-aec6-47f6-891a-ec9c032ee7b2",
   "metadata": {},
   "source": [
    "### Check response quality\n",
    "Goal: set a sense for how well the the codes match and how good the codes are"
   ]
  },
  {
   "cell_type": "code",
   "execution_count": 118,
   "id": "f33321f3-b7c5-4b40-8243-a48d18ebae31",
   "metadata": {},
   "outputs": [
    {
     "name": "stdout",
     "output_type": "stream",
     "text": [
      "251\n"
     ]
    }
   ],
   "source": [
    "# Note: too few duplicates to worry about.. and we'll check them after\n",
    "code_id_mapping = {code.response_id : code for response_codes in batched_responses for code in response_codes.codes}"
   ]
  },
  {
   "cell_type": "code",
   "execution_count": 122,
   "id": "8ca938ba-0b1f-4487-8780-8fc7654152ff",
   "metadata": {},
   "outputs": [
    {
     "name": "stdout",
     "output_type": "stream",
     "text": [
      "ID: 7ceaafd1-fd8a-41e7-96e4-e84fff04ed62\n",
      "Response: There is nothing I would complain about.\n",
      "Topic: General feedback\n",
      "Sentiment: neutral\n",
      "Context: No complaints\n",
      "\n",
      "ID: 4aa655c9-2dbf-4f8a-b5b6-88e584c8a0b9\n",
      "Response: I don't particularly like the self-checkout\n",
      "Topic: Checkout Experience\n",
      "Sentiment: negative\n",
      "Context: Dislike of self-checkout\n",
      "\n",
      "ID: a1e30d9d-f1a1-4e9b-87f0-105453335261\n",
      "Response: Nothing just keep the restrooms clean\n",
      "Topic: Restroom Facilities\n",
      "Sentiment: positive\n",
      "Context: Keep restrooms clean\n",
      "\n",
      "ID: f073c9ee-43f3-46f7-89ba-c1e099676f45\n",
      "Response: You are a multi billion dollar company. Please pay your employees a livable wage. Stop promoting high wages and health insurance, only to make sure said employee never works the number of hours to qualify for those things. I love self checkout, but you need to open your registers! I'm tired of only 1 or 2 lanes being open and having to stand in long lines, when I Need to deal with a cashier for my transaction. If you insist on making us check ourselves out, a discount should be given, or rewards earned, for doing so. I like to get paid when I work. Also, since you are no longer open 24 hours, perhaps you could instruct your associates NOT to block off every single aisle with stock, an hour before closing. It is very frustrating to try to shop and have to walk 10 aisles down, to finally be able to get to the other side of the aisle and turn around and walk the same 10 aisles to get what I need. Or to Not be able to get what I need because there are several pallets blocking access. You have been around for generations, you Know better. Please Do better.\"\n",
      "Topic: Employee Treatment and Checkout Process\n",
      "Sentiment: negative\n",
      "Context: Need for better employee treatment and more open registers\n",
      "\n",
      "ID: fe113279-15b8-4f66-8cc7-72a4d900b95d\n",
      "Response: The stores really need to be ran a little better when it comes to cleanliness. Today with the pandemic it is of utmost importance to keep clean.\n",
      "Topic: Store Cleanliness\n",
      "Sentiment: negative\n",
      "Context: Need for better cleanliness\n",
      "\n"
     ]
    }
   ],
   "source": [
    "# Note: too few duplicates to worry about.. and we'll check them after\n",
    "code_id_mapping = {\n",
    "    code.response_id : code\n",
    "    for response_codes in batched_responses\n",
    "    for code in response_codes.codes\n",
    "}\n",
    "\n",
    "for _ in range(5):\n",
    "    id_value, answer = df.sample(1).row(0)\n",
    "    matched = code_id_mapping[id_value]\n",
    "    print(f\"ID: {id_value}\")\n",
    "    print(f\"Response: {answer}\")\n",
    "    print(f\"Topic: {matched.topic}\")\n",
    "    print(f\"Sentiment: {matched.sentiment}\")\n",
    "    print(f\"Context: {matched.specific_theme}\\n\")"
   ]
  },
  {
   "cell_type": "code",
   "execution_count": 133,
   "id": "16c57890-3a8d-44b2-9d93-d52efe9d3f06",
   "metadata": {},
   "outputs": [],
   "source": [
    "# Sorry!\n",
    "u_ids = set(all_ids)\n",
    "duplicates = [rid for rid in all_ids if rid not in u_ids]"
   ]
  },
  {
   "cell_type": "code",
   "execution_count": 134,
   "id": "c8453345-95e0-4d59-bb55-b519859e467d",
   "metadata": {},
   "outputs": [
    {
     "data": {
      "text/plain": [
       "[]"
      ]
     },
     "execution_count": 134,
     "metadata": {},
     "output_type": "execute_result"
    }
   ],
   "source": [
    "duplicates"
   ]
  },
  {
   "cell_type": "code",
   "execution_count": null,
   "id": "bd08ee12-eb3c-4ef2-a13c-3712cd433505",
   "metadata": {},
   "outputs": [],
   "source": []
  }
 ],
 "metadata": {
  "kernelspec": {
   "display_name": "Python 3 (ipykernel)",
   "language": "python",
   "name": "python3"
  },
  "language_info": {
   "codemirror_mode": {
    "name": "ipython",
    "version": 3
   },
   "file_extension": ".py",
   "mimetype": "text/x-python",
   "name": "python",
   "nbconvert_exporter": "python",
   "pygments_lexer": "ipython3",
   "version": "3.13.2"
  }
 },
 "nbformat": 4,
 "nbformat_minor": 5
}
