{
 "cells": [
  {
   "cell_type": "markdown",
   "id": "1693e7c9-8b61-4ecb-9275-98a291a9a8c2",
   "metadata": {},
   "source": [
    "# Coding frames"
   ]
  },
  {
   "cell_type": "markdown",
   "id": "1c8da0b0-361e-47d1-9c15-ef52f9f932f0",
   "metadata": {},
   "source": [
    "## Takeaways:\n",
    "- Including topic and specific_theme helps capture a good level of granularity.\n",
    "- Asking it to include IDs, even if those IDs aren't 100% correct, results in more codes being returned.\n",
    "- Prompts to generate codes need improvement; it's still not returning multiple codes per response.\n",
    "- Batching gives far better results when getting codes, though it is slower.\n",
    "- Generating a list of just theme names instead of full theme objects leads to more and better themes being returned.\n",
    "- IDs are helpful for understanding how it arrived at the answer, but it might be worth dropping them after coding.\n",
    "- It would be interesting to see if shorter IDs improved performance (maybe the first ~7 characters of a hash).\n",
    "- The current approach won't handle large datasets well.\n",
    "- If we needed to link themes back to topics, maybe an embedding similarity search using the final theme would be better.\n",
    "\n",
    "Overall, there is a lot to be improved upon with this approach... however, I'm not convinced that this is the best approach to begin with.\n"
   ]
  },
  {
   "cell_type": "markdown",
   "id": "bbdc54c3-d5a0-4f8b-b3b8-7405e309ecb3",
   "metadata": {},
   "source": [
    "## Main resources used:\n",
    "- https://journals.sagepub.com/doi/10.1177/08944393231220483\n",
    "- https://fastercapital.com/content/Thematic-Analysis--Uncovering-Patterns--Thematic-Analysis-in-Qualitative-Research.html#\n",
    "- https://getthematic.com/insights/coding-qualitative-data/"
   ]
  },
  {
   "cell_type": "markdown",
   "id": "21cb1ba1-3884-4c13-9eb2-d0ee635e734e",
   "metadata": {},
   "source": [
    "## Setup"
   ]
  },
  {
   "cell_type": "code",
   "execution_count": 1,
   "id": "a741e55e-b8a6-42f1-ac86-761a9b4d9fcc",
   "metadata": {},
   "outputs": [],
   "source": [
    "import asyncio\n",
    "import polars as pl\n",
    "from pathlib import Path\n",
    "from typing import Literal, List, Iterable\n",
    "from pydantic import BaseModel, Field\n",
    "from thematic_analysis.llm import get_chat_completion_structured\n",
    "from thematic_analysis.types import UserMessage, SystemMessage\n",
    "from thematic_analysis.utils.cleaning import clean_answers, format_list"
   ]
  },
  {
   "cell_type": "code",
   "execution_count": 2,
   "id": "d93f8fe7-1252-4b34-9a40-9f7fe099f7fd",
   "metadata": {},
   "outputs": [
    {
     "data": {
      "text/html": [
       "<div><style>\n",
       ".dataframe > thead > tr,\n",
       ".dataframe > tbody > tr {\n",
       "  text-align: right;\n",
       "  white-space: pre-wrap;\n",
       "}\n",
       "</style>\n",
       "<small>shape: (2, 2)</small><table border=\"1\" class=\"dataframe\"><thead><tr><th>id</th><th>answer</th></tr><tr><td>str</td><td>str</td></tr></thead><tbody><tr><td>&quot;94f2d4c3-b513-411c-b505-a11290…</td><td>&quot;The customer service that your…</td></tr><tr><td>&quot;1797c6f2-c501-44b7-b549-a33c29…</td><td>&quot;I would complain about how mor…</td></tr></tbody></table></div>"
      ],
      "text/plain": [
       "shape: (2, 2)\n",
       "┌─────────────────────────────────┬─────────────────────────────────┐\n",
       "│ id                              ┆ answer                          │\n",
       "│ ---                             ┆ ---                             │\n",
       "│ str                             ┆ str                             │\n",
       "╞═════════════════════════════════╪═════════════════════════════════╡\n",
       "│ 94f2d4c3-b513-411c-b505-a11290… ┆ The customer service that your… │\n",
       "│ 1797c6f2-c501-44b7-b549-a33c29… ┆ I would complain about how mor… │\n",
       "└─────────────────────────────────┴─────────────────────────────────┘"
      ]
     },
     "execution_count": 2,
     "metadata": {},
     "output_type": "execute_result"
    }
   ],
   "source": [
    "# Read in DF, pick a question column, and clean the answers\n",
    "df = pl.read_csv(Path(\"../data/wallmart.csv\"))\n",
    "\n",
    "question = df.columns[2]\n",
    "df = df.select([\"Session ID\", question]).rename({\n",
    "    \"Session ID\" : \"id\",\n",
    "    question : \"answer\"\n",
    "})\n",
    "df = clean_answers(df)\n",
    "df.head(2)"
   ]
  },
  {
   "cell_type": "markdown",
   "id": "52d99be1-85f5-433f-80d9-da79efd75045",
   "metadata": {},
   "source": [
    "## Initial Coding\n",
    "Goal: play around with the outout models and prompts to see what works"
   ]
  },
  {
   "cell_type": "code",
   "execution_count": 3,
   "id": "a719d113-b3a1-4e41-bccf-9d5cb6c90e3c",
   "metadata": {},
   "outputs": [],
   "source": [
    "# Create output models\n",
    "\n",
    "class Code(BaseModel):\n",
    "    response_id: str = Field(..., description=\"The id of the response this code was generated from.\")\n",
    "    topic: str = Field(..., description=\"The broad subject of the response (e.g., 'Customer Service', 'Pricing').\")\n",
    "    sentiment: Literal[\"positive\", \"negative\", \"neutral\"] = Field(\n",
    "        ..., description=\"The sentiment of the response related to the topic.\"\n",
    "    )\n",
    "    specific_theme: str = Field(..., description=\"A specific attribute or issue described in the response.\")\n",
    "\n",
    "    def __str__(self) -> str:\n",
    "        return f'(id=\"{self.response_id}\", code=\"{self.topic}: {self.specific_theme}\", sentiment=\"self.sentiment\")'\n",
    "\n",
    "class ReponseCodes(BaseModel):\n",
    "    # scratch_pad: str = Field(..., description=\"A areas for outputting your reasoning when generating codes.\")\n",
    "    codes: List[Code] = Field(..., description=\"A list of codes generated from survey responses.\")\n",
    "\n",
    "    def __str__(self) -> str:\n",
    "        # Show each code on a new line.\n",
    "        cls_name = self.__class__.__name__\n",
    "        codes = \"\\n\".join(self.codes)\n",
    "        return f\"{cls_name}(\\n{codes}\\n)\""
   ]
  },
  {
   "cell_type": "code",
   "execution_count": 4,
   "id": "09a88494-b1cc-43ce-b178-27f16f4b3e77",
   "metadata": {},
   "outputs": [],
   "source": [
    "# Format responses\n",
    "def format_list(responses: Iterable[str], ids: Iterable[str]) -> str:\n",
    "    \"\"\"\n",
    "    Format the answers of a ThemeRequest for a prompt.\n",
    "    \"\"\"\n",
    "    formatted_responses = [\n",
    "        f\"(id={r_id}, response={response})\"\n",
    "        for r_id, response\n",
    "        in zip(responses, ids)\n",
    "    ]\n",
    "    return \"\\n\".join(formatted_responses)\n",
    "\n",
    "formatted_answers = format_list(df[\"answer\"], df[\"id\"])"
   ]
  },
  {
   "cell_type": "code",
   "execution_count": 5,
   "id": "fe1400e1-b2a0-4cb8-8b55-bad1af26e11c",
   "metadata": {},
   "outputs": [],
   "source": [
    "# Create prompts for inital codes\n",
    "\n",
    "instructions = \"\"\"\n",
    "You are an expert in qualitative analysis.\n",
    "\n",
    "You will be given a survey question and a list of responses. Your task is to categorize each response into one or more codes based on the topics it covers.\n",
    "\n",
    "# **Instructions**:\n",
    "\n",
    "For each response, follow these steps:\n",
    "\n",
    "1. Identify the main topics mentioned in the response.\n",
    "2. For each topic, determine:\n",
    "    - Sentiment: Classify as positive, negative, or neutral based on the tone, wording, and context of the question.\n",
    "    - Specific Theme: Create a clear, concise phrase capturing the core issue or attribute described.\n",
    "3. Generate a code for each topic using the identified sentiment and theme.\n",
    "4. Repeat this process until at least one code is assigned to each response.\n",
    "\n",
    "# **Example**:\n",
    "\n",
    "Reponse: \"The product was fine, but the pricing felt a little high compared to competitors.\"\n",
    "\n",
    "Generated codes:\n",
    "```\n",
    "[\n",
    "    {\n",
    "        \"topic\": \"Product\",\n",
    "        \"sentiment\": \"neutral\",\n",
    "        \"specific_theme\": \"Acceptable quality\"\n",
    "    },\n",
    "    {\n",
    "        \"topic\": \"Pricing\",\n",
    "        \"sentiment\": \"negative\",\n",
    "        \"specific_theme\": \"Higher than competitors\"\n",
    "    }\n",
    "]\n",
    "```\n",
    "\n",
    "# **Guidelines**:\n",
    "- If a response mentions multiple topics, generate separate codes for each one.\n",
    "- If a topic expresses mixed sentiments, create a separate code for each sentiment.\n",
    "- Ensure specific themes are precise and meaningful (e.g., \"Difficult refund process\" instead of just \"Refunds\").\n",
    "- If a response is too vague, use \"General feedback\" as the topic.\n",
    "- One response can generate one or more codes.\n",
    "\n",
    "You are now going to be given a the survey question and a list of the responses to code.\n",
    "\"\"\"\n",
    "\n",
    "survey_responses = \"\"\"\n",
    "# **Question**:\n",
    "> \"{question}\"\n",
    "\n",
    "\n",
    "# **Responses**:\n",
    "{formatted_answers}\n",
    "\"\"\""
   ]
  },
  {
   "cell_type": "code",
   "execution_count": 6,
   "id": "0b919165-bb3d-4295-8ad4-0ddf391a416b",
   "metadata": {},
   "outputs": [],
   "source": [
    "# Call the LLM\n",
    "prompts = [\n",
    "    SystemMessage(content=instructions),\n",
    "    UserMessage(content=survey_responses.format(question=question, formatted_answers=formatted_answers))\n",
    "]\n",
    "response = await get_chat_completion_structured(prompts, ReponseCodes)"
   ]
  },
  {
   "cell_type": "code",
   "execution_count": 7,
   "id": "4ecf2502-e833-4ff9-ac31-812ac65ea902",
   "metadata": {},
   "outputs": [
    {
     "name": "stdout",
     "output_type": "stream",
     "text": [
      "Number of survey responses: 253\n",
      "Number of codes returned: 123\n",
      "Number of unique ids: 123\n"
     ]
    }
   ],
   "source": [
    "# Check basic numbers\n",
    "\n",
    "print(f\"Number of survey responses: {df.shape[0]}\")\n",
    "print(f\"Number of codes returned: {len(response.codes)}\")\n",
    "\n",
    "unqiue_ids = set([code.response_id for code in response.codes])\n",
    "print(f\"Number of unique ids: {len(unqiue_ids)}\")"
   ]
  },
  {
   "cell_type": "markdown",
   "id": "759df87f-f3e5-4600-8f47-d14320b7fd28",
   "metadata": {},
   "source": [
    "### Test batching\n",
    "Goal: check if the model does better when less responses"
   ]
  },
  {
   "cell_type": "code",
   "execution_count": 8,
   "id": "10868f3a-3741-46db-83b3-2ff365712606",
   "metadata": {},
   "outputs": [],
   "source": [
    "async def process_batch(batch: pl.DataFrame):\n",
    "    print(f\"Processing {batch.shape[0]} rows...\")\n",
    "    formatted_responses = format_list(batch[\"answer\"], batch[\"id\"])\n",
    "    prompts = [\n",
    "        SystemMessage(content=instructions),\n",
    "        UserMessage(content=survey_responses.format(question=question, formatted_answers=formatted_responses))\n",
    "    ]\n",
    "    return await get_chat_completion_structured(prompts, ReponseCodes)"
   ]
  },
  {
   "cell_type": "code",
   "execution_count": 9,
   "id": "547b350f-f5f0-4a88-9f52-f80d64f274de",
   "metadata": {},
   "outputs": [
    {
     "name": "stdout",
     "output_type": "stream",
     "text": [
      "Processing 50 rows...\n",
      "Processing 50 rows...\n",
      "Processing 50 rows...\n",
      "Processing 50 rows...\n",
      "Processing 50 rows...\n",
      "Processing 3 rows...\n"
     ]
    }
   ],
   "source": [
    "BTACH_SIZE = 50\n",
    "\n",
    "# TODO: create functon to generates balanced batches given a max size (or just check itertools...)\n",
    "batched_response_futures = [\n",
    "    process_batch(df.slice(start, BTACH_SIZE))\n",
    "    for start in range(0, df.height, BTACH_SIZE)\n",
    "]\n",
    "batched_responses = await asyncio.gather(*batched_response_futures)"
   ]
  },
  {
   "cell_type": "code",
   "execution_count": 10,
   "id": "b93f82c5-e4f8-4404-b9ee-f7fa767f7925",
   "metadata": {},
   "outputs": [
    {
     "name": "stdout",
     "output_type": "stream",
     "text": [
      "Number of survey responses: 253\n",
      "Responses in each batch: [49, 51, 50, 52, 49, 6], Total codes: 257\n",
      "Number of unique ids: 250\n"
     ]
    }
   ],
   "source": [
    "# Check basic numbers\n",
    "\n",
    "print(f\"Number of survey responses: {df.shape[0]}\")\n",
    "\n",
    "response_code_numbers = [len(response.codes) for response in batched_responses]\n",
    "print(f\"Responses in each batch: {response_code_numbers}, Total codes: {sum(response_code_numbers)}\")\n",
    "\n",
    "all_ids = [code.response_id for response_codes in batched_responses for code in response_codes.codes]\n",
    "print(f\"Number of unique ids: {len(set(all_ids))}\")"
   ]
  },
  {
   "cell_type": "markdown",
   "id": "7ebd516e-a788-4254-8634-6d37de41ee83",
   "metadata": {},
   "source": [
    "### Check ids\n",
    "Goal: get a sense of how wells using ids works."
   ]
  },
  {
   "cell_type": "code",
   "execution_count": 11,
   "id": "63211d89-3d6a-496c-9c58-9e3735dc0ade",
   "metadata": {},
   "outputs": [],
   "source": [
    "real_ids = set(df[\"id\"])\n",
    "returned_ids = set(all_ids)"
   ]
  },
  {
   "cell_type": "code",
   "execution_count": 12,
   "id": "a7adde67-a135-4911-8edc-95e37da83e21",
   "metadata": {},
   "outputs": [
    {
     "name": "stdout",
     "output_type": "stream",
     "text": [
      "Number of returned ids that match ids in the df: 247\n",
      "Number of made up ids: 3\n",
      "Number of missed ids: 6\n",
      "Made up:\n",
      "{'489b761c-386b-4f9b-a1b-1a1bdeb6baf2', 'e97b337c-d73b-4949-937e-d28db451a024', '5c070d8d-08bf-44b6-9b6d-4eb282e56530'}\n",
      "Missed:\n",
      "{'b90b66ce-4b2a-4547-a4e8-1bc9eabde81f', '489b761c-386b-4f9b-a009-4a1bdeb6baf2', 'e97b337c-d73c-4949-937e-d28db451a024', '5c070d8d-08bf-44ac-9b6d-4eb282e56530', '0e307185-0c9a-4a3d-8574-5dda17b6fed7', '5389cf13-5371-476f-a22f-f7f2ab5a9892'}\n"
     ]
    }
   ],
   "source": [
    "# Check intersection\n",
    "print(f\"Number of returned ids that match ids in the df: {len(real_ids & returned_ids)}\")\n",
    "print(f\"Number of made up ids: {len(returned_ids - real_ids)}\")\n",
    "print(f\"Number of missed ids: {len(real_ids - returned_ids)}\")\n",
    "\n",
    "print(f\"Made up:\")\n",
    "print(returned_ids - real_ids)\n",
    "print(f\"Missed:\")\n",
    "print(real_ids - returned_ids)"
   ]
  },
  {
   "cell_type": "markdown",
   "id": "80bf6c4e-aec6-47f6-891a-ec9c032ee7b2",
   "metadata": {},
   "source": [
    "### Check response quality\n",
    "Goal: set a sense for how well the the codes match and how good the codes are"
   ]
  },
  {
   "cell_type": "code",
   "execution_count": 13,
   "id": "f33321f3-b7c5-4b40-8243-a48d18ebae31",
   "metadata": {},
   "outputs": [],
   "source": [
    "# Note: too few duplicates to worry about.. and we'll check them after\n",
    "code_id_mapping = {code.response_id : code for response_codes in batched_responses for code in response_codes.codes}"
   ]
  },
  {
   "cell_type": "code",
   "execution_count": 14,
   "id": "8ca938ba-0b1f-4487-8780-8fc7654152ff",
   "metadata": {},
   "outputs": [
    {
     "name": "stdout",
     "output_type": "stream",
     "text": [
      "ID: 4264ccf6-2239-4241-a373-14f58398a1e7\n",
      "Response: Wouldn't write a complaint letter.\n",
      "Topic: General feedback\n",
      "Sentiment: neutral\n",
      "Context: No complaints\n",
      "\n",
      "ID: d0fb022c-0793-426c-81fe-475d9edb4e4c\n",
      "Response: Self checkout is a a pain, not enough personnel to check out\"\n",
      "Topic: Checkout Process\n",
      "Sentiment: negative\n",
      "Context: Issues with self-checkout and personnel availability\n",
      "\n",
      "ID: 413662a7-1496-439f-9554-db4819f547de\n",
      "Response: I miss the availability of being able to shop after midnight with out the hassle of having to rush be cuase you are closing.\n",
      "Topic: Store Hours\n",
      "Sentiment: negative\n",
      "Context: Inconvenient closing hours\n",
      "\n",
      "ID: 4a2ccec1-a19e-47a3-9174-edb010353a89\n",
      "Response: Customer service in store. Only feels like employees r restocking shelf's and don't say hi or welcome or have a nice day.\n",
      "Topic: Customer Service\n",
      "Sentiment: negative\n",
      "Context: Lack of employee engagement\n",
      "\n",
      "ID: 97600a69-192b-4d64-9ae1-40a294e4b7f2\n",
      "Response: That will be the bathroom they could be more clean. Normally they are ok.\n",
      "Topic: Store Cleanliness\n",
      "Sentiment: negative\n",
      "Context: Need for cleaner bathrooms\n",
      "\n"
     ]
    }
   ],
   "source": [
    "# Note: too few duplicates to worry about...\n",
    "code_id_mapping = {\n",
    "    code.response_id : code\n",
    "    for response_codes in batched_responses\n",
    "    for code in response_codes.codes\n",
    "}\n",
    "\n",
    "for _ in range(5):\n",
    "    id_value, answer = df.sample(1).row(0)\n",
    "    matched = code_id_mapping[id_value]\n",
    "    print(f\"ID: {id_value}\")\n",
    "    print(f\"Response: {answer}\")\n",
    "    print(f\"Topic: {matched.topic}\")\n",
    "    print(f\"Sentiment: {matched.sentiment}\")\n",
    "    print(f\"Context: {matched.specific_theme}\\n\")"
   ]
  },
  {
   "cell_type": "markdown",
   "id": "1b4dc26b-351f-434e-876c-6b84478a520e",
   "metadata": {},
   "source": [
    "## Grouping codes\n",
    "Goals: play around with grouping stragety to find an approach that works well (hopefully)"
   ]
  },
  {
   "cell_type": "code",
   "execution_count": 15,
   "id": "3ad6ca2c-7c85-4d40-a55d-daf4523a36c3",
   "metadata": {},
   "outputs": [],
   "source": [
    "class Theme(BaseModel):\n",
    "    code_ids: List[str] = Field(\n",
    "        ..., description=\"List of code IDs contributing to this theme.\"\n",
    "    )\n",
    "    theme: str = Field(\n",
    "        ..., description=\"A concise name capturing the core issue (e.g., 'Long Checkout Lines').\"\n",
    "    )\n",
    "    summary: str = Field(\n",
    "        ..., description=\"A short explanation that highlights key trends and patterns within this theme.\"\n",
    "    )\n",
    "    sentiment: Literal[\"positive\", \"neutral\", \"negative\", \"mixed\"] = Field(\n",
    "        ..., description=\"Overall sentiment of the theme.\"\n",
    "    )\n",
    "\n",
    "    def __str__(self) -> str:\n",
    "        return f'(theme=\"{self.theme}\", summary=\"{self.summary}\", sentiment=\"{self.sentiment}\", n_codes={len(self.code_ids)})'\n",
    "\n",
    "class ResponseThemes(BaseModel):\n",
    "    themes: List[Theme] = Field(\n",
    "        ..., description=\"A list of the main themes.\"\n",
    "    )"
   ]
  },
  {
   "cell_type": "code",
   "execution_count": 16,
   "id": "2041d8fd-5c8b-4968-bda4-1e2d14a42a86",
   "metadata": {},
   "outputs": [],
   "source": [
    "# Create prompts for inital codes\n",
    "# List the relevant code IDs: Include all the code IDs that are strongly associated with this theme.\n",
    "\n",
    "instructions = \"\"\"\n",
    "You are part of a team conducting a thematic analysis of responses to a survey question.\n",
    "\n",
    "Your task is to group related codes into distinct, meaningful themes.\n",
    "The objective is to identify patterns and trends while ensuring that the themes are as distinct as possible, minimizing overlap between them.\n",
    "\n",
    "# **Instructions**:\n",
    "\n",
    "1. Identify Recurring Patterns: Review the codes and identify recurring patterns or themes. Look for consistent ideas, sentiments, or issues that appear across the responses.\n",
    "2. Generate Themes:\n",
    "    - For each identified pattern, create a theme name that captures the core idea.\n",
    "    - Write a summary that highlights the key trend or insight represented by the theme.\n",
    "    - Assign an overall sentiment (e.g., positive, negative, neutral) based on the pattern.\n",
    "    - List the code IDs: Include all the code IDs that are associated with is theme.\n",
    "3. Repeat this process until you’ve identified all the main themes.\n",
    "\n",
    "# **Guidelines**:\n",
    "- Grouping Codes: Focus on identifying clear patterns in the responses. Consider:\n",
    "    - Similar concepts: Are the codes describing similar ideas or experiences (e.g., long wait times, slow service)?\n",
    "    - Common sentiment: Do the codes express a shared sentiment or feeling (e.g., frustration, satisfaction)?\n",
    "    - Similar actions or issues: Do the codes relate to similar actions or problems (e.g., technical issues, product quality concerns)?\n",
    "- Keep Themes Distinct: Aim for clarity and ensure the themes are distinct.\n",
    "- Extract Actionable Insights: Focus on identifying actionable trends that can help improve products, services, or customer experience.\n",
    "- Comprehensiveness: Ensure that all major trends or patterns in the responses are captured.\n",
    "\n",
    "You are now going to be given a the survey question and a list of the responses to code.\n",
    "\"\"\""
   ]
  },
  {
   "cell_type": "code",
   "execution_count": 17,
   "id": "8b68fd52-352f-404b-92dc-5348a3721b81",
   "metadata": {},
   "outputs": [],
   "source": [
    "formatted_codes = \"\\n\".join([str(code) for response_codes in batched_responses for code in response_codes.codes])"
   ]
  },
  {
   "cell_type": "code",
   "execution_count": 18,
   "id": "a790851f-148d-4275-9a4e-1cb4bd09b760",
   "metadata": {},
   "outputs": [],
   "source": [
    "# Call the LLM\n",
    "prompts = [\n",
    "    SystemMessage(content=instructions),\n",
    "    UserMessage(content=formatted_codes)\n",
    "]\n",
    "themes = await get_chat_completion_structured(prompts, ResponseThemes)"
   ]
  },
  {
   "cell_type": "code",
   "execution_count": 19,
   "id": "15de6a80-1309-4a27-b907-2560b473a625",
   "metadata": {},
   "outputs": [
    {
     "name": "stdout",
     "output_type": "stream",
     "text": [
      "5\n",
      "(theme=\"Customer Service Issues\", summary=\"A significant number of responses highlight dissatisfaction with customer service, including rude, unhelpful, and poorly trained staff. Many customers express frustration over the lack of assistance and negative experiences during their visits.\", sentiment=\"negative\", n_codes=10)\n",
      "(theme=\"Checkout Process Challenges\", summary=\"Many customers report issues with the checkout process, including long lines, insufficient cashiers, and frustrations with self-checkout options. This theme indicates a need for improved efficiency and staffing during peak hours.\", sentiment=\"negative\", n_codes=10)\n",
      "(theme=\"Pricing and Product Availability\", summary=\"Responses indicate concerns about pricing, including high prices and lack of promotions, as well as frequent stock shortages and product availability issues. Customers express a desire for better pricing strategies and more consistent stock levels.\", sentiment=\"negative\", n_codes=10)\n",
      "(theme=\"Store Environment and Cleanliness\", summary=\"Customers express dissatisfaction with the cleanliness and organization of the store environment, citing issues such as dirty restrooms, cluttered aisles, and unkempt products. This theme suggests a need for improved maintenance and cleanliness standards.\", sentiment=\"negative\", n_codes=10)\n",
      "(theme=\"General Feedback and Suggestions\", summary=\"A portion of responses includes general feedback, with some customers expressing satisfaction with their experiences while others provide suggestions for improvement. This theme highlights the mixed sentiments and varying experiences among customers.\", sentiment=\"mixed\", n_codes=10)\n"
     ]
    }
   ],
   "source": [
    "print(len(themes.themes))\n",
    "for theme in themes.themes:\n",
    "    print(theme)"
   ]
  },
  {
   "cell_type": "markdown",
   "id": "dca9bbd7-c7fb-4f18-b94f-c3012709f096",
   "metadata": {},
   "source": [
    "### Test getting short list of themes, and then creatingtheme objects\n",
    "Another idea is to do a first pass to just identify the main themes it sees, and then in the next steps ask it to generate a theme object for each theme."
   ]
  },
  {
   "cell_type": "code",
   "execution_count": 20,
   "id": "a49c3f82-6830-462c-bbb4-d0a7de845d42",
   "metadata": {},
   "outputs": [],
   "source": [
    "instructions = \"\"\"\n",
    "You are an expert in qualitative analysis and thematic coding.\n",
    "\n",
    "You will be given a list of codes generated from responses to a survey question. Your task is to analyze these codes and return a list of the main themes found within them.\n",
    "Each theme should:\n",
    "- Be short and concise, getting to the key point of the theme.\n",
    "- Be distinct from other themes.\n",
    "- Represent a key pattern or trend that emerged from the codes, even if that theme is positive or neutral, not just issues.\n",
    "- Be ordered by frequency of occurrence, with the most common theme listed first.\n",
    "\n",
    "The themes should capture the core idea reflected by the codes, and you should avoid creating overly broad or vague themes. Be specific, and focus on the key recurring concepts or patterns\n",
    "\"\"\"\n",
    "\n",
    "class ThemeList(BaseModel):\n",
    "    themes: List[str] = Field(...,description=\"A list of distinct themes\")\n",
    "\n",
    "prompts = [\n",
    "    SystemMessage(content=instructions),\n",
    "    UserMessage(content=formatted_codes)\n",
    "]\n",
    "themes = await get_chat_completion_structured(prompts, ThemeList)"
   ]
  },
  {
   "cell_type": "code",
   "execution_count": 21,
   "id": "cf1c8e6b-0fda-4b0f-aea6-68aba1726007",
   "metadata": {},
   "outputs": [
    {
     "data": {
      "text/plain": [
       "ThemeList(themes=['Customer Service Issues', 'Checkout Process Challenges', 'Store Cleanliness Concerns', 'Stock Availability Problems', 'Employee Treatment and Staffing', 'Pricing and Value Perception', 'General Feedback and Suggestions', 'Product Quality and Variety', 'Store Organization and Navigation', 'Accessibility and Convenience'])"
      ]
     },
     "execution_count": 21,
     "metadata": {},
     "output_type": "execute_result"
    }
   ],
   "source": [
    "themes"
   ]
  },
  {
   "cell_type": "code",
   "execution_count": 22,
   "id": "ececce7f-772a-4bd5-951a-7b8fc737de6f",
   "metadata": {},
   "outputs": [],
   "source": [
    "instructions = \"\"\"\n",
    "You are an expert in qualitative analysis and thematic coding.\n",
    "\n",
    "You will be given a list of codes generated from responses to a survey question. Additionally, you will receive a list of themes.\n",
    "\n",
    "Your task is to identify the codes that are relevant to each theme and use them to add context and detail to each theme\n",
    "\n",
    "# **Instructions**:\n",
    "\n",
    "For each of the provided themes:\n",
    "1. Identify Related Codes: Find all codes that are relevant to the theme.\n",
    "2. Refine the Theme Name: Update the theme name, if needed, to better capture its essence based on the related codes.\n",
    "3. Write a Summary: Write a brief summary that highlights the key trend or insight from the related codes, ensuring it’s relevant to the survey question.\n",
    "4. Assess Sentiment: Assign an overall sentiment to the theme.\n",
    "5. List Code IDs: List all the code IDs associated with the theme.\n",
    "5. Repeat for each provided theme.\n",
    "\n",
    "# **Guidelines**:\n",
    "- Group Relevant Codes: Only include codes that clearly fit the theme.\n",
    "- Ensure Theme Clarity: The theme name, summary, and sentiment should clearly reflect the patterns in the codes.\n",
    "- Contextual Relevance: Ensure that the summaries are specifically relevant to the survey question, capturing the key insights or trends from the responses.\n",
    "- Maintain Theme Distinctness: Each theme should remain distinct from others with minimal overlap.\n",
    "\n",
    "You will now be provided with the survey question, a list of codes, and a list of themes.\n",
    "\"\"\"\n",
    "\n",
    "survey_responses = \"\"\"\n",
    "# **Question**:\n",
    "\"{question}\"\n",
    "\n",
    "# *Themes**:\n",
    "{formatted_themes}\n",
    "\n",
    "# **Codes**:\n",
    "{formatted_codes}\n",
    "\"\"\"\n"
   ]
  },
  {
   "cell_type": "code",
   "execution_count": 23,
   "id": "5c856697-bb06-4696-b77c-3aeaf8e96508",
   "metadata": {},
   "outputs": [],
   "source": [
    "formatted_themes = \", \".join(themes.themes)"
   ]
  },
  {
   "cell_type": "code",
   "execution_count": 24,
   "id": "75406e35-a731-4a31-9e24-190cfd24eda1",
   "metadata": {},
   "outputs": [],
   "source": [
    "# Call the LLM\n",
    "prompts = [\n",
    "    SystemMessage(content=instructions),\n",
    "    UserMessage(content=survey_responses.format(question=question, formatted_themes=formatted_themes, formatted_codes=formatted_codes))\n",
    "]\n",
    "response = await get_chat_completion_structured(prompts, ResponseThemes)"
   ]
  },
  {
   "cell_type": "code",
   "execution_count": 25,
   "id": "6f95bd33-6da4-44c7-94c2-6a64037f73f3",
   "metadata": {},
   "outputs": [
    {
     "name": "stdout",
     "output_type": "stream",
     "text": [
      "(theme=\"Customer Service Issues\", summary=\"A significant number of respondents expressed dissatisfaction with customer service, highlighting experiences of rudeness, unhelpfulness, and inadequate support from staff. Many noted that employees appeared indifferent or poorly trained, leading to a frustrating shopping experience. This sentiment reflects a broader concern about the quality of service provided at Walmart, which is crucial for customer retention and satisfaction.\", sentiment=\"negative\", n_codes=20)\n",
      "\n",
      "\n",
      "(theme=\"Checkout Process Challenges\", summary=\"Many respondents reported significant challenges during the checkout process, including long lines, insufficient open registers, and frustrations with self-checkout options. The need for more cashiers and better management of checkout lanes was a common theme, indicating that the current system is not meeting customer needs effectively. This can lead to a negative shopping experience and deter customers from returning.\", sentiment=\"negative\", n_codes=10)\n",
      "\n",
      "\n",
      "(theme=\"Store Cleanliness Concerns\", summary=\"Responses indicate a strong concern regarding store cleanliness, with many customers noting dirty environments, unkempt restrooms, and a general lack of hygiene. This sentiment suggests that cleanliness is a significant factor in customer satisfaction and can impact their overall shopping experience. A clean store is essential for attracting and retaining customers.\", sentiment=\"negative\", n_codes=10)\n",
      "\n",
      "\n",
      "(theme=\"Stock Availability Problems\", summary=\"A recurring issue highlighted by respondents is the frequent stock shortages and unavailability of popular items. Customers expressed frustration over not being able to find desired products, which can lead to dissatisfaction and a perception of poor inventory management. This issue is critical for maintaining customer loyalty and ensuring a positive shopping experience.\", sentiment=\"negative\", n_codes=10)\n",
      "\n",
      "\n",
      "(theme=\"Employee Treatment and Staffing\", summary=\"Concerns regarding employee treatment and staffing levels were prevalent among respondents. Many noted issues such as understaffing, poor treatment of employees, and a lack of training, which can negatively affect customer service and employee morale. Addressing these issues is essential for improving the overall shopping experience and ensuring a supportive work environment.\", sentiment=\"negative\", n_codes=10)\n",
      "\n",
      "\n",
      "(theme=\"Pricing and Value Perception\", summary=\"Respondents expressed concerns about pricing, with many feeling that prices were too high or not reflective of the quality of products. This sentiment indicates a need for Walmart to reassess its pricing strategy to ensure it aligns with customer expectations and perceived value. Competitive pricing is crucial for attracting and retaining customers in a price-sensitive market.\", sentiment=\"negative\", n_codes=10)\n",
      "\n",
      "\n",
      "(theme=\"General Feedback and Suggestions\", summary=\"While many respondents provided negative feedback, there were also positive comments regarding the store's overall experience and suggestions for improvement. Some customers expressed appreciation for specific aspects of their shopping experience, indicating that there are areas where Walmart is meeting customer expectations. This feedback can be valuable for identifying strengths and areas for growth.\", sentiment=\"mixed\", n_codes=10)\n",
      "\n",
      "\n",
      "(theme=\"Product Quality and Variety\", summary=\"Concerns about product quality and variety were frequently mentioned, with customers expressing dissatisfaction with the freshness of produce and the range of available products. This feedback highlights the importance of maintaining high-quality standards and offering a diverse selection to meet customer needs and preferences.\", sentiment=\"negative\", n_codes=10)\n",
      "\n",
      "\n",
      "(theme=\"Store Organization and Navigation\", summary=\"Customers reported difficulties navigating the store due to poor organization and layout. Issues such as crowded aisles and unclear signage were common complaints, indicating a need for better store organization to enhance the shopping experience. A well-organized store can significantly improve customer satisfaction and efficiency during shopping trips.\", sentiment=\"negative\", n_codes=10)\n",
      "\n",
      "\n",
      "(theme=\"Accessibility and Convenience\", summary=\"Accessibility issues were raised by customers, particularly regarding the availability of services for elderly shoppers and the convenience of store layout. Suggestions for improvement included better parking options and more accessible store features. Addressing these concerns can enhance the shopping experience for all customers, particularly those with mobility challenges.\", sentiment=\"negative\", n_codes=10)\n",
      "\n",
      "\n"
     ]
    }
   ],
   "source": [
    "for t in response.themes:\n",
    "    print(t)\n",
    "    print(\"\\n\")"
   ]
  },
  {
   "cell_type": "markdown",
   "id": "a4308a0d-243d-4126-bf2d-bc89e225106e",
   "metadata": {},
   "source": [
    "### Quick check of ids\n",
    "Goal: be surprised if the majority of ids are correct "
   ]
  },
  {
   "cell_type": "code",
   "execution_count": 50,
   "id": "dcb63594-7b72-4720-a6d8-1da29ef89563",
   "metadata": {},
   "outputs": [],
   "source": [
    "theme_ids = [code_id for theme in response.themes for code_id in theme.code_ids]\n",
    "\n",
    "real_ids = set(df[\"id\"])\n",
    "returned_ids = set(theme_ids)"
   ]
  },
  {
   "cell_type": "code",
   "execution_count": 51,
   "id": "a92f67cd-c669-4af9-8415-f65184cd22ca",
   "metadata": {},
   "outputs": [
    {
     "name": "stdout",
     "output_type": "stream",
     "text": [
      "Number of returned ids that match ids in the df: 61\n",
      "Number of made up ids: 3\n",
      "Made up:\n",
      "{'5b863d22-3d3f-49bb-bf0572187a29', 'b8b83b3c-948f-44b2-b2d6-1d7b1fbe743c', 'cdd5ec1a-8d44-4587-8e11-e354b7428950'}\n"
     ]
    }
   ],
   "source": [
    "# Check intersection\n",
    "print(f\"Number of returned ids that match ids in the df: {len(real_ids & returned_ids)}\")\n",
    "print(f\"Number of made up ids: {len(returned_ids - real_ids)}\")\n",
    "\n",
    "print(f\"Made up:\")\n",
    "print(returned_ids - real_ids)"
   ]
  },
  {
   "cell_type": "code",
   "execution_count": null,
   "id": "a036bd75-ec27-4045-8554-155b9b89e723",
   "metadata": {},
   "outputs": [],
   "source": [
    "# {'489b761c-386b-4f9b-a1b-1a1bdeb6baf2', 'e97b337c-d73b-4949-937e-d28db451a024', '5c070d8d-08bf-44b6-9b6d-4eb282e56530'}"
   ]
  },
  {
   "cell_type": "markdown",
   "id": "9a5834d9-ed95-4728-ac47-25c8eaa87eb2",
   "metadata": {},
   "source": [
    "### Quick check of comments"
   ]
  },
  {
   "cell_type": "code",
   "execution_count": 54,
   "id": "5a709289-9805-40a0-bc2c-de717fc85a80",
   "metadata": {},
   "outputs": [],
   "source": [
    "test_theme = response.themes[1]\n",
    "test_ids = test_theme.code_ids"
   ]
  },
  {
   "cell_type": "code",
   "execution_count": 56,
   "id": "0e997b21-c94f-4ab3-834b-3bc2b2f7e15b",
   "metadata": {},
   "outputs": [
    {
     "name": "stdout",
     "output_type": "stream",
     "text": [
      "I would complain about how more registers need to be available throughout the day.\n",
      "I would complain that there is such a long line at self checkout while there are so many unmanned unused registers to check out ar.\n",
      "My biggest complaint is the lack of non self checkout registers. If I am going to be forced to use the self checkout lane due to regular checkout lanes being closed, I should get a good discount since I am doing the work of the cashier.\"\n",
      "Why are there so many check out lines and only 1 is open other than the self checkout\n",
      "NEVER enough cash registers open. We should not have to do our own check out and bagging, especially when there are employees just standing around.\"\n",
      "It's dirty\n",
      "Checkout lanes without checkers. 20 lanes and only 3 open\n",
      "Eveytime I shop at wal-mart there are never enough cashiers and the lines are super long, its very frustrating.\"\n",
      "More checkers available during peak shopping hours\n"
     ]
    }
   ],
   "source": [
    "for a in df.filter(\n",
    "    pl.col(\"id\").is_in(test_ids)\n",
    ")[\"answer\"]:\n",
    "    print(a)"
   ]
  },
  {
   "cell_type": "code",
   "execution_count": 57,
   "id": "b07c13a5-b477-479b-be71-9d4b3e20507e",
   "metadata": {},
   "outputs": [
    {
     "data": {
      "text/plain": [
       "Theme(code_ids=['1797c6f2-c501-44b7-b549-a33c29224edc', '577ab489-2682-4ad6-83cf-9651d6c37c2c', '10b8a26f-ee5c-40ad-84fc-c279dc084816', 'b7420340-7dd0-4a00-b7ad-075b333644ee', 'cdd5ec1a-8d44-4587-8e11-e354b7428950', 'ed7d65ee-540d-4323-b73d-d393f0213c37', '6cdd4eb6-e013-470d-aaa0-137975ad67ee', 'dec5facf-30c4-47dd-b322-ebdeca833bab', 'c2977827-47cc-4f88-ab0e-8767c109b217', '73a54f02-1635-4727-817d-f3468fde2d9c'], theme='Checkout Process Challenges', summary='Many respondents reported significant challenges during the checkout process, including long lines, insufficient open registers, and frustrations with self-checkout options. The need for more cashiers and better management of checkout lanes was a common theme, indicating that the current system is not meeting customer needs effectively. This can lead to a negative shopping experience and deter customers from returning.', sentiment='negative')"
      ]
     },
     "execution_count": 57,
     "metadata": {},
     "output_type": "execute_result"
    }
   ],
   "source": [
    "test_theme"
   ]
  },
  {
   "cell_type": "code",
   "execution_count": null,
   "id": "841c5a95-b8f4-4461-a9a6-79dd3fce5069",
   "metadata": {},
   "outputs": [],
   "source": []
  }
 ],
 "metadata": {
  "kernelspec": {
   "display_name": "Python 3 (ipykernel)",
   "language": "python",
   "name": "python3"
  },
  "language_info": {
   "codemirror_mode": {
    "name": "ipython",
    "version": 3
   },
   "file_extension": ".py",
   "mimetype": "text/x-python",
   "name": "python",
   "nbconvert_exporter": "python",
   "pygments_lexer": "ipython3",
   "version": "3.13.2"
  }
 },
 "nbformat": 4,
 "nbformat_minor": 5
}
