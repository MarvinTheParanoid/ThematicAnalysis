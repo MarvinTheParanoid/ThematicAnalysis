{
 "cells": [
  {
   "cell_type": "code",
   "execution_count": 15,
   "id": "36b0386c-ef7e-49fc-a9ff-88f8b3c86b6b",
   "metadata": {},
   "outputs": [],
   "source": [
    "import requests\n",
    "import polars as pl\n",
    "from functools import partial\n",
    "from pathlib import Path\n",
    "from IPython.display import Markdown\n",
    "\n",
    "from thematic_analysis.models import ThemeRequest, SurveyAnswer\n",
    "from thematic_analysis.types import ThemeStrategy\n",
    "from thematic_analysis.strategies.prompt_strategy import analyze_themes_with_prompt"
   ]
  },
  {
   "cell_type": "code",
   "execution_count": 2,
   "id": "bf2ca8c4-8ead-494e-a0cc-f7df8399e84a",
   "metadata": {},
   "outputs": [
    {
     "data": {
      "text/html": [
       "<div><style>\n",
       ".dataframe > thead > tr,\n",
       ".dataframe > tbody > tr {\n",
       "  text-align: right;\n",
       "  white-space: pre-wrap;\n",
       "}\n",
       "</style>\n",
       "<small>shape: (5, 9)</small><table border=\"1\" class=\"dataframe\"><thead><tr><th>Session ID</th><th>Date started</th><th>Imagine you are writing a complaint letter to the head of Walmart...in detail, tell us the things you would complain about and why they matter?</th><th>What do you think Target does better than Walmart?</th><th>What do you LOVE most about Walmart?</th><th>Gender</th><th>Age group</th><th>State</th><th>Who does it better? Target or Walmart?</th></tr><tr><td>str</td><td>str</td><td>str</td><td>str</td><td>str</td><td>str</td><td>str</td><td>str</td><td>str</td></tr></thead><tbody><tr><td>&quot;94f2d4c3-b513-411c-b505-a11290…</td><td>&quot;10/02/2022 01:03&quot;</td><td>&quot;The customer service that your…</td><td>&quot;Their overall approach to cust…</td><td>&quot;There&#x27;s nothing I LOVE about W…</td><td>&quot;Male&quot;</td><td>&quot;45-54&quot;</td><td>&quot;Texas&quot;</td><td>&quot;Target&quot;</td></tr><tr><td>&quot;1797c6f2-c501-44b7-b549-a33c29…</td><td>&quot;10/02/2022 01:03&quot;</td><td>&quot;I would complain about how mor…</td><td>null</td><td>&quot;I love the diversity of produc…</td><td>&quot;Female&quot;</td><td>&quot;18-24&quot;</td><td>&quot;Texas&quot;</td><td>&quot;Walmart&quot;</td></tr><tr><td>&quot;20e1a746-8311-450b-ba54-62d15f…</td><td>&quot;10/02/2022 01:03&quot;</td><td>&quot;Why do you quit taking cash at…</td><td>&quot;Target still has a snack bar u…</td><td>&quot;The employees. They try when \n",
       "…</td><td>&quot;Male&quot;</td><td>&quot;55-64&quot;</td><td>&quot;Texas&quot;</td><td>&quot;Target&quot;</td></tr><tr><td>&quot;234eb679-ffb8-4e5e-a45a-e50a7c…</td><td>&quot;10/02/2022 01:03&quot;</td><td>&quot;You don&#x27;t just go into Walmart…</td><td>null</td><td>&quot;In the small town that I live …</td><td>&quot;Male&quot;</td><td>&quot;35-44&quot;</td><td>&quot;Texas&quot;</td><td>&quot;Walmart&quot;</td></tr><tr><td>&quot;511293b3-42e1-4712-a3a9-8838e0…</td><td>&quot;10/02/2022 01:03&quot;</td><td>&quot;East Waco needs a Walmart neig…</td><td>null</td><td>&quot;The low price&quot;</td><td>&quot;Male&quot;</td><td>&quot;25-34&quot;</td><td>&quot;Texas&quot;</td><td>&quot;Walmart&quot;</td></tr></tbody></table></div>"
      ],
      "text/plain": [
       "shape: (5, 9)\n",
       "┌─────────────┬────────────┬────────────┬────────────┬───┬────────┬───────────┬───────┬────────────┐\n",
       "│ Session ID  ┆ Date       ┆ Imagine    ┆ What do    ┆ … ┆ Gender ┆ Age group ┆ State ┆ Who does   │\n",
       "│ ---         ┆ started    ┆ you are    ┆ you think  ┆   ┆ ---    ┆ ---       ┆ ---   ┆ it better? │\n",
       "│ str         ┆ ---        ┆ writing a  ┆ Target     ┆   ┆ str    ┆ str       ┆ str   ┆ Target or  │\n",
       "│             ┆ str        ┆ comp…      ┆ does …     ┆   ┆        ┆           ┆       ┆ …          │\n",
       "│             ┆            ┆ ---        ┆ ---        ┆   ┆        ┆           ┆       ┆ ---        │\n",
       "│             ┆            ┆ str        ┆ str        ┆   ┆        ┆           ┆       ┆ str        │\n",
       "╞═════════════╪════════════╪════════════╪════════════╪═══╪════════╪═══════════╪═══════╪════════════╡\n",
       "│ 94f2d4c3-b5 ┆ 10/02/2022 ┆ The        ┆ Their      ┆ … ┆ Male   ┆ 45-54     ┆ Texas ┆ Target     │\n",
       "│ 13-411c-b50 ┆ 01:03      ┆ customer   ┆ overall    ┆   ┆        ┆           ┆       ┆            │\n",
       "│ 5-a11290…   ┆            ┆ service    ┆ approach   ┆   ┆        ┆           ┆       ┆            │\n",
       "│             ┆            ┆ that your… ┆ to cust…   ┆   ┆        ┆           ┆       ┆            │\n",
       "│ 1797c6f2-c5 ┆ 10/02/2022 ┆ I would    ┆ null       ┆ … ┆ Female ┆ 18-24     ┆ Texas ┆ Walmart    │\n",
       "│ 01-44b7-b54 ┆ 01:03      ┆ complain   ┆            ┆   ┆        ┆           ┆       ┆            │\n",
       "│ 9-a33c29…   ┆            ┆ about how  ┆            ┆   ┆        ┆           ┆       ┆            │\n",
       "│             ┆            ┆ mor…       ┆            ┆   ┆        ┆           ┆       ┆            │\n",
       "│ 20e1a746-83 ┆ 10/02/2022 ┆ Why do you ┆ Target     ┆ … ┆ Male   ┆ 55-64     ┆ Texas ┆ Target     │\n",
       "│ 11-450b-ba5 ┆ 01:03      ┆ quit       ┆ still has  ┆   ┆        ┆           ┆       ┆            │\n",
       "│ 4-62d15f…   ┆            ┆ taking     ┆ a snack    ┆   ┆        ┆           ┆       ┆            │\n",
       "│             ┆            ┆ cash at…   ┆ bar u…     ┆   ┆        ┆           ┆       ┆            │\n",
       "│ 234eb679-ff ┆ 10/02/2022 ┆ You don't  ┆ null       ┆ … ┆ Male   ┆ 35-44     ┆ Texas ┆ Walmart    │\n",
       "│ b8-4e5e-a45 ┆ 01:03      ┆ just go    ┆            ┆   ┆        ┆           ┆       ┆            │\n",
       "│ a-e50a7c…   ┆            ┆ into       ┆            ┆   ┆        ┆           ┆       ┆            │\n",
       "│             ┆            ┆ Walmart…   ┆            ┆   ┆        ┆           ┆       ┆            │\n",
       "│ 511293b3-42 ┆ 10/02/2022 ┆ East Waco  ┆ null       ┆ … ┆ Male   ┆ 25-34     ┆ Texas ┆ Walmart    │\n",
       "│ e1-4712-a3a ┆ 01:03      ┆ needs a    ┆            ┆   ┆        ┆           ┆       ┆            │\n",
       "│ 9-8838e0…   ┆            ┆ Walmart    ┆            ┆   ┆        ┆           ┆       ┆            │\n",
       "│             ┆            ┆ neig…      ┆            ┆   ┆        ┆           ┆       ┆            │\n",
       "└─────────────┴────────────┴────────────┴────────────┴───┴────────┴───────────┴───────┴────────────┘"
      ]
     },
     "execution_count": 2,
     "metadata": {},
     "output_type": "execute_result"
    }
   ],
   "source": [
    "df = pl.read_csv(Path(\"../data/wallmart.csv\"))\n",
    "df.head()"
   ]
  },
  {
   "cell_type": "code",
   "execution_count": 3,
   "id": "049feeda-900b-42f6-b99b-152dc4feb1e0",
   "metadata": {},
   "outputs": [],
   "source": [
    "def create_survey_answer_list(\n",
    "    df: pl.DataFrame, answer_column: str, id_column: str = \"Session ID\"\n",
    ") -> list[SurveyAnswer]:\n",
    "    \"\"\"\n",
    "    Quick helper function for testing different endpoints\n",
    "    \"\"\"\n",
    "    return [\n",
    "        SurveyAnswer(id=id, answer=answer)\n",
    "        for id, answer in zip(df[id_column], df[answer_column])\n",
    "    ]"
   ]
  },
  {
   "cell_type": "code",
   "execution_count": 26,
   "id": "49db3341-a8dd-4270-8004-0e1e2d336fe3",
   "metadata": {},
   "outputs": [],
   "source": [
    "async def display_result(request: ThemeRequest) -> None:\n",
    "    response = await analyze_themes_with_prompt(request)\n",
    "    display(Markdown(f\"## {request.question}\"))\n",
    "    for theme in response.themes:\n",
    "        display(Markdown(theme.markdown)) "
   ]
  },
  {
   "cell_type": "code",
   "execution_count": 23,
   "id": "5525a771-2ff7-442a-965f-5dde43d7acb4",
   "metadata": {},
   "outputs": [],
   "source": [
    "question_columns = df.columns[2:5]\n",
    "\n",
    "partial_themes = [\n",
    "    partial(\n",
    "        ThemeRequest,\n",
    "        question=question,\n",
    "        answers=create_survey_answer_list(df, question)\n",
    "    )\n",
    "    for question in question_columns\n",
    "]"
   ]
  },
  {
   "cell_type": "markdown",
   "id": "b96d22ee-71a4-426d-881e-972ac63cfb53",
   "metadata": {},
   "source": [
    "# Prompt Strategy Results"
   ]
  },
  {
   "cell_type": "code",
   "execution_count": 27,
   "id": "c00d9c87-768a-4b0a-acde-2e829b94e4ad",
   "metadata": {},
   "outputs": [
    {
     "data": {
      "text/markdown": [
       "## Imagine you are writing a complaint letter to the head of Walmart...in detail, tell us the things you would complain about and why they matter?"
      ],
      "text/plain": [
       "<IPython.core.display.Markdown object>"
      ]
     },
     "metadata": {},
     "output_type": "display_data"
    },
    {
     "data": {
      "text/markdown": [
       "**Poor Customer Service**\n",
       "\n",
       "Numerous customer feedback entries highlight dissatisfaction with Walmart's customer service. Many respondents noted rude or dismissive attitudes from staff, indicating a lack of helpfulness or friendliness. This negative interaction often left customers feeling as if their needs were not valued or prioritized. The prevailing sentiment is that an improvement in employee training and a focus on customer engagement could greatly enhance the shopping experience."
      ],
      "text/plain": [
       "<IPython.core.display.Markdown object>"
      ]
     },
     "metadata": {},
     "output_type": "display_data"
    },
    {
     "data": {
      "text/markdown": [
       "**Inadequate Checkout Options**\n",
       "\n",
       "A significant number of comments mention the prevailing issue of long checkout lines and a scarcity of open registers. Customers express frustration that, despite many self-checkout stations, there are often few staffed registers operating, leading to prolonged waits. This situation is exacerbated during peak shopping times, suggesting a need for better staffing strategies to improve efficiency and reduce wait times."
      ],
      "text/plain": [
       "<IPython.core.display.Markdown object>"
      ]
     },
     "metadata": {},
     "output_type": "display_data"
    },
    {
     "data": {
      "text/markdown": [
       "**Store Cleanliness and Organization**\n",
       "\n",
       "Customers frequently mentioned concerns about the cleanliness and organization of Walmart stores. Reports of messy aisles, unkempt restrooms, and dirty surfaces were common, which detracts from the overall shopping experience. Shoppers are particularly sensitive to hygiene, especially in light of the ongoing pandemic, indicating that increased maintenance and better organizational practices could significantly enhance customer satisfaction."
      ],
      "text/plain": [
       "<IPython.core.display.Markdown object>"
      ]
     },
     "metadata": {},
     "output_type": "display_data"
    },
    {
     "data": {
      "text/markdown": [
       "**Stock Availability Issues**\n",
       "\n",
       "Many customers voiced complaints regarding the inconsistency in product availability, with several noting that items they frequently purchase are often out of stock. This unpredictability in inventory can be particularly frustrating for dedicated customers who rely on Walmart for essential goods. Addressing stock management practices could lead to improved customer retention and satisfaction."
      ],
      "text/plain": [
       "<IPython.core.display.Markdown object>"
      ]
     },
     "metadata": {},
     "output_type": "display_data"
    },
    {
     "data": {
      "text/markdown": [
       "**Self-Checkout Preference**\n",
       "\n",
       "While some customers appreciate self-checkout options for their convenience, a notable number expressed a strong preference for traditional checkouts with human cashiers. Issues such as the impersonal nature of self-checkouts and challenges faced by older shoppers or those with disabilities were highlighted, suggesting that a balance between both options might be necessary to cater to all customer demographics."
      ],
      "text/plain": [
       "<IPython.core.display.Markdown object>"
      ]
     },
     "metadata": {},
     "output_type": "display_data"
    },
    {
     "data": {
      "text/markdown": [
       "## What do you think Target does better than Walmart?"
      ],
      "text/plain": [
       "<IPython.core.display.Markdown object>"
      ]
     },
     "metadata": {},
     "output_type": "display_data"
    },
    {
     "data": {
      "text/markdown": [
       "**Cleanliness and Organization**\n",
       "\n",
       "Customers consistently express that Target's stores are cleaner and more organized than Walmart's. Many comments highlight that they appreciate the less cluttered environment, which enhances their shopping experience. Shoppers note that items are easier to find, and the stores have a welcoming layout due to lower ceilings and warm colors. This cleanliness not only makes shopping feel more pleasant but also indicates a higher level of care and maintenance that positively impacts customers' perceptions of the brand."
      ],
      "text/plain": [
       "<IPython.core.display.Markdown object>"
      ]
     },
     "metadata": {},
     "output_type": "display_data"
    },
    {
     "data": {
      "text/markdown": [
       "**Quality of Products**\n",
       "\n",
       "A strong recurring theme is the perceived higher quality of products at Target compared to Walmart. Customers mention that the items they find at Target are often of better quality, both in terms of clothing and general merchandise. This perception contributes to their willingness to overlook slightly higher prices, as they believe that quality justifies the expense. The emphasis on quality seems to enhance customers' loyalty and satisfaction, as they associate Target with superior products that meet their needs."
      ],
      "text/plain": [
       "<IPython.core.display.Markdown object>"
      ]
     },
     "metadata": {},
     "output_type": "display_data"
    },
    {
     "data": {
      "text/markdown": [
       "**Customer Service**\n",
       "\n",
       "Feedback highlights a generally superior customer service experience at Target, with many customers noting that employees are more helpful, friendly, and engaged than those at Walmart. Shoppers feel that the presence of more staff contributes to a more personalized and efficient shopping experience. The ability to quickly find assistance and the quick checkout processes, including the availability of multiple lanes, make customers feel valued and supported, enhancing their overall satisfaction with the brand."
      ],
      "text/plain": [
       "<IPython.core.display.Markdown object>"
      ]
     },
     "metadata": {},
     "output_type": "display_data"
    },
    {
     "data": {
      "text/markdown": [
       "**Atmosphere and Experience**\n",
       "\n",
       "Many customers describe the atmosphere at Target as more appealing than at Walmart, emphasizing a less anxious and more enjoyable environment. The presence of amenities such as Starbucks and food courts adds to this experience, making visits feel more like an outing rather than a chore. The bright, well-decorated stores create a more premium shopping environment, which customers associate with higher social status—often referring to Target as a 'classier' option compared to Walmart."
      ],
      "text/plain": [
       "<IPython.core.display.Markdown object>"
      ]
     },
     "metadata": {},
     "output_type": "display_data"
    },
    {
     "data": {
      "text/markdown": [
       "## What do you LOVE most about Walmart?"
      ],
      "text/plain": [
       "<IPython.core.display.Markdown object>"
      ]
     },
     "metadata": {},
     "output_type": "display_data"
    },
    {
     "data": {
      "text/markdown": [
       "**Affordability and Low Prices**\n",
       "\n",
       "A prominent theme across customer feedback is the appreciation for Walmart's low prices. Many customers emphasize the affordability of items, stating that it allows them to save money on everyday essentials. This sentiment highlights the significance of competitive pricing in attracting and retaining customers, making Walmart a preferred choice for budget-conscious shoppers. The emphasis on low prices indicates that maintaining this aspect is crucial for customer satisfaction and loyalty."
      ],
      "text/plain": [
       "<IPython.core.display.Markdown object>"
      ]
     },
     "metadata": {},
     "output_type": "display_data"
    },
    {
     "data": {
      "text/markdown": [
       "**Variety of Products**\n",
       "\n",
       "Customers frequently mention Walmart's wide selection of products as a major benefit. They appreciate the store's ability to provide almost anything they need, from groceries to electronics, all in one place. This theme underscores the convenience Walmart offers, as it allows shoppers to fulfill diverse needs without having to visit multiple stores. The broad variety caters to many demographics and increases shopper satisfaction, highlighting Walmart's role as a one-stop shopping destination."
      ],
      "text/plain": [
       "<IPython.core.display.Markdown object>"
      ]
     },
     "metadata": {},
     "output_type": "display_data"
    },
    {
     "data": {
      "text/markdown": [
       "**Convenience**\n",
       "\n",
       "The convenience of shopping at Walmart is another strong theme noted by many respondents. Customers value the store’s accessibility, often located nearby, and the availability of services like curbside pickup and online shopping. This theme is significant as it reflects customers’ desires for efficient shopping experiences, especially in today's fast-paced lifestyle. Enhanced convenience not only meets customer expectations but may also drive repeat visits and member loyalty."
      ],
      "text/plain": [
       "<IPython.core.display.Markdown object>"
      ]
     },
     "metadata": {},
     "output_type": "display_data"
    },
    {
     "data": {
      "text/markdown": [
       "**Helpful Staff and Customer Service**\n",
       "\n",
       "Several customers express positive sentiments about Walmart's staff, noting their friendliness and willingness to assist shoppers. This theme is crucial as it reflects on the overall customer experience, suggesting that good customer service can noticeably enhance satisfaction. Positive interactions with employees may encourage customers to return, as they feel valued and supported during their shopping experiences."
      ],
      "text/plain": [
       "<IPython.core.display.Markdown object>"
      ]
     },
     "metadata": {},
     "output_type": "display_data"
    }
   ],
   "source": [
    "for theme in partial_themes:\n",
    "    request = theme(strategy=ThemeStrategy.PROMPT)\n",
    "    await display_result(request)"
   ]
  },
  {
   "cell_type": "code",
   "execution_count": null,
   "id": "8dc347e6-13a3-43c5-8156-de5b3bb3f817",
   "metadata": {},
   "outputs": [],
   "source": []
  }
 ],
 "metadata": {
  "kernelspec": {
   "display_name": "Python 3 (ipykernel)",
   "language": "python",
   "name": "python3"
  },
  "language_info": {
   "codemirror_mode": {
    "name": "ipython",
    "version": 3
   },
   "file_extension": ".py",
   "mimetype": "text/x-python",
   "name": "python",
   "nbconvert_exporter": "python",
   "pygments_lexer": "ipython3",
   "version": "3.13.2"
  }
 },
 "nbformat": 4,
 "nbformat_minor": 5
}
