{
 "cells": [
  {
   "cell_type": "markdown",
   "id": "530997e1-4050-47fd-86db-ee47774c0606",
   "metadata": {},
   "source": [
    "# Single Query\n",
    "\n",
    "Before jumping into anything more complex, I want to get a sense of how well a frontier model performs with a single prompt—without any data cleaning or preprocessing. This will also serve as a benchmark for future approaches.\n",
    "\n",
    "With this approach, the prompt will be extremely important, so as part of this exploration, I’ll experiment with a few different prompts.\n",
    "\n",
    "To keep things simple, I’m going to ignore the demographics/segment columns and focus only on individual response columns. I’ll also highlight the challenges this approach will face when processing large datasets, as well as issues related to data cleaning, such as removing PII, profanity, etc.\n",
    "\n",
    "Ideas for improving prompts largely come from:\n",
    "https://platform.openai.com/docs/guides/prompt-engineering"
   ]
  },
  {
   "cell_type": "code",
   "execution_count": 1,
   "id": "b5eabbd1-4052-44d2-9ec4-418e18e1a82b",
   "metadata": {},
   "outputs": [],
   "source": [
    "import os\n",
    "import json\n",
    "import polars as pl\n",
    "from openai import OpenAI\n",
    "from dotenv import load_dotenv\n",
    "from pathlib import Path\n",
    "from IPython.display import Markdown\n",
    "\n",
    "load_dotenv(Path(\".env\"))\n",
    "client = OpenAI(\n",
    "    api_key=os.environ[\"OPENAI_API_KEY\"],\n",
    ")"
   ]
  },
  {
   "cell_type": "code",
   "execution_count": 2,
   "id": "35523c99-ceb7-4148-8bcc-243c2d0518cb",
   "metadata": {},
   "outputs": [
    {
     "data": {
      "text/html": [
       "<div><style>\n",
       ".dataframe > thead > tr,\n",
       ".dataframe > tbody > tr {\n",
       "  text-align: right;\n",
       "  white-space: pre-wrap;\n",
       "}\n",
       "</style>\n",
       "<small>shape: (5, 9)</small><table border=\"1\" class=\"dataframe\"><thead><tr><th>Session ID</th><th>Date started</th><th>Imagine you are writing a complaint letter to the head of Walmart...in detail, tell us the things you would complain about and why they matter?</th><th>What do you think Target does better than Walmart?</th><th>What do you LOVE most about Walmart?</th><th>Gender</th><th>Age group</th><th>State</th><th>Who does it better? Target or Walmart?</th></tr><tr><td>str</td><td>str</td><td>str</td><td>str</td><td>str</td><td>str</td><td>str</td><td>str</td><td>str</td></tr></thead><tbody><tr><td>&quot;94f2d4c3-b513-411c-b505-a11290…</td><td>&quot;10/02/2022 01:03&quot;</td><td>&quot;The customer service that your…</td><td>&quot;Their overall approach to cust…</td><td>&quot;There&#x27;s nothing I LOVE about W…</td><td>&quot;Male&quot;</td><td>&quot;45-54&quot;</td><td>&quot;Texas&quot;</td><td>&quot;Target&quot;</td></tr><tr><td>&quot;1797c6f2-c501-44b7-b549-a33c29…</td><td>&quot;10/02/2022 01:03&quot;</td><td>&quot;I would complain about how mor…</td><td>null</td><td>&quot;I love the diversity of produc…</td><td>&quot;Female&quot;</td><td>&quot;18-24&quot;</td><td>&quot;Texas&quot;</td><td>&quot;Walmart&quot;</td></tr><tr><td>&quot;20e1a746-8311-450b-ba54-62d15f…</td><td>&quot;10/02/2022 01:03&quot;</td><td>&quot;Why do you quit taking cash at…</td><td>&quot;Target still has a snack bar u…</td><td>&quot;The employees. They try when \n",
       "…</td><td>&quot;Male&quot;</td><td>&quot;55-64&quot;</td><td>&quot;Texas&quot;</td><td>&quot;Target&quot;</td></tr><tr><td>&quot;234eb679-ffb8-4e5e-a45a-e50a7c…</td><td>&quot;10/02/2022 01:03&quot;</td><td>&quot;You don&#x27;t just go into Walmart…</td><td>null</td><td>&quot;In the small town that I live …</td><td>&quot;Male&quot;</td><td>&quot;35-44&quot;</td><td>&quot;Texas&quot;</td><td>&quot;Walmart&quot;</td></tr><tr><td>&quot;511293b3-42e1-4712-a3a9-8838e0…</td><td>&quot;10/02/2022 01:03&quot;</td><td>&quot;East Waco needs a Walmart neig…</td><td>null</td><td>&quot;The low price&quot;</td><td>&quot;Male&quot;</td><td>&quot;25-34&quot;</td><td>&quot;Texas&quot;</td><td>&quot;Walmart&quot;</td></tr></tbody></table></div>"
      ],
      "text/plain": [
       "shape: (5, 9)\n",
       "┌─────────────┬────────────┬────────────┬────────────┬───┬────────┬───────────┬───────┬────────────┐\n",
       "│ Session ID  ┆ Date       ┆ Imagine    ┆ What do    ┆ … ┆ Gender ┆ Age group ┆ State ┆ Who does   │\n",
       "│ ---         ┆ started    ┆ you are    ┆ you think  ┆   ┆ ---    ┆ ---       ┆ ---   ┆ it better? │\n",
       "│ str         ┆ ---        ┆ writing a  ┆ Target     ┆   ┆ str    ┆ str       ┆ str   ┆ Target or  │\n",
       "│             ┆ str        ┆ comp…      ┆ does …     ┆   ┆        ┆           ┆       ┆ …          │\n",
       "│             ┆            ┆ ---        ┆ ---        ┆   ┆        ┆           ┆       ┆ ---        │\n",
       "│             ┆            ┆ str        ┆ str        ┆   ┆        ┆           ┆       ┆ str        │\n",
       "╞═════════════╪════════════╪════════════╪════════════╪═══╪════════╪═══════════╪═══════╪════════════╡\n",
       "│ 94f2d4c3-b5 ┆ 10/02/2022 ┆ The        ┆ Their      ┆ … ┆ Male   ┆ 45-54     ┆ Texas ┆ Target     │\n",
       "│ 13-411c-b50 ┆ 01:03      ┆ customer   ┆ overall    ┆   ┆        ┆           ┆       ┆            │\n",
       "│ 5-a11290…   ┆            ┆ service    ┆ approach   ┆   ┆        ┆           ┆       ┆            │\n",
       "│             ┆            ┆ that your… ┆ to cust…   ┆   ┆        ┆           ┆       ┆            │\n",
       "│ 1797c6f2-c5 ┆ 10/02/2022 ┆ I would    ┆ null       ┆ … ┆ Female ┆ 18-24     ┆ Texas ┆ Walmart    │\n",
       "│ 01-44b7-b54 ┆ 01:03      ┆ complain   ┆            ┆   ┆        ┆           ┆       ┆            │\n",
       "│ 9-a33c29…   ┆            ┆ about how  ┆            ┆   ┆        ┆           ┆       ┆            │\n",
       "│             ┆            ┆ mor…       ┆            ┆   ┆        ┆           ┆       ┆            │\n",
       "│ 20e1a746-83 ┆ 10/02/2022 ┆ Why do you ┆ Target     ┆ … ┆ Male   ┆ 55-64     ┆ Texas ┆ Target     │\n",
       "│ 11-450b-ba5 ┆ 01:03      ┆ quit       ┆ still has  ┆   ┆        ┆           ┆       ┆            │\n",
       "│ 4-62d15f…   ┆            ┆ taking     ┆ a snack    ┆   ┆        ┆           ┆       ┆            │\n",
       "│             ┆            ┆ cash at…   ┆ bar u…     ┆   ┆        ┆           ┆       ┆            │\n",
       "│ 234eb679-ff ┆ 10/02/2022 ┆ You don't  ┆ null       ┆ … ┆ Male   ┆ 35-44     ┆ Texas ┆ Walmart    │\n",
       "│ b8-4e5e-a45 ┆ 01:03      ┆ just go    ┆            ┆   ┆        ┆           ┆       ┆            │\n",
       "│ a-e50a7c…   ┆            ┆ into       ┆            ┆   ┆        ┆           ┆       ┆            │\n",
       "│             ┆            ┆ Walmart…   ┆            ┆   ┆        ┆           ┆       ┆            │\n",
       "│ 511293b3-42 ┆ 10/02/2022 ┆ East Waco  ┆ null       ┆ … ┆ Male   ┆ 25-34     ┆ Texas ┆ Walmart    │\n",
       "│ e1-4712-a3a ┆ 01:03      ┆ needs a    ┆            ┆   ┆        ┆           ┆       ┆            │\n",
       "│ 9-8838e0…   ┆            ┆ Walmart    ┆            ┆   ┆        ┆           ┆       ┆            │\n",
       "│             ┆            ┆ neig…      ┆            ┆   ┆        ┆           ┆       ┆            │\n",
       "└─────────────┴────────────┴────────────┴────────────┴───┴────────┴───────────┴───────┴────────────┘"
      ]
     },
     "execution_count": 2,
     "metadata": {},
     "output_type": "execute_result"
    }
   ],
   "source": [
    "df = pl.read_csv(Path(\"../wallmart.csv\"))\n",
    "df.head()"
   ]
  },
  {
   "cell_type": "code",
   "execution_count": 3,
   "id": "524e0052-7ec1-4307-957a-0835396557eb",
   "metadata": {},
   "outputs": [],
   "source": [
    "def clean_responses(responses: pl.Series) -> pl.Series:\n",
    "    \"\"\"Clean a series of text responses by removing whitespace, empty strings, and null values.\n",
    "\n",
    "    Args:\n",
    "        responses: A polars Series containing text responses\n",
    "\n",
    "    Returns:\n",
    "        A cleaned polars Series with whitespace stripped, empty strings removed,\n",
    "        newlines replaced with spaces, multiple spaces condensed, and null values dropped\n",
    "    \"\"\"\n",
    "    # Clean up whitespace\n",
    "    cleaned_whitespace = responses.str.strip_chars().str.replace_all(r\"\\s+\", \" \")\n",
    "    # Drop all nulls and empty strings\n",
    "    return cleaned_whitespace.filter(\n",
    "        cleaned_whitespace.str.len_chars() > 0\n",
    "    ).drop_nulls()"
   ]
  },
  {
   "cell_type": "code",
   "execution_count": 4,
   "id": "338e880a-f577-400e-a2b5-81c1e9bdbb17",
   "metadata": {},
   "outputs": [],
   "source": [
    "# For now just focus on a single column\n",
    "question = \"Imagine you are writing a complaint letter to the head of Walmart...in detail, tell us the things you would complain about and why they matter?\"\n",
    "cleaned_responses = clean_responses(df[question])\n",
    "formatted_responses = \"\\n\".join(cleaned_responses)"
   ]
  },
  {
   "cell_type": "markdown",
   "id": "c40802b2-5fda-49a0-a809-67e9311268b4",
   "metadata": {},
   "source": [
    "## Prompt 1: Basic instructions"
   ]
  },
  {
   "cell_type": "code",
   "execution_count": 5,
   "id": "f308bc7e-7908-4f00-9071-1c230b481532",
   "metadata": {},
   "outputs": [
    {
     "data": {
      "text/markdown": [
       "### Theme 1: Customer Service Concerns\n",
       "**Summary:** Many respondents expressed dissatisfaction with the customer service at Walmart, citing rude or unhelpful employees, lack of assistance, and poor training. This theme highlights the importance of customer service in ensuring a positive shopping experience and customer retention.\n",
       "\n",
       "### Theme 2: Checkout Process Frustrations\n",
       "**Summary:** A significant number of complaints focused on the checkout process, particularly the lack of open registers and the over-reliance on self-checkout lanes. Customers feel inconvenienced by long lines and the expectation to self-checkout, especially when there are few cashiers available.\n",
       "\n",
       "### Theme 3: Store Cleanliness and Organization\n",
       "**Summary:** Respondents frequently mentioned issues with store cleanliness and organization. Complaints included dirty bathrooms, cluttered aisles, and disorganized shelves, which make shopping difficult and unpleasant.\n",
       "\n",
       "### Theme 4: Product Availability and Quality\n",
       "**Summary:** Many customers are frustrated with the frequent out-of-stock items and the quality of certain products, particularly in the produce and meat sections. This theme underscores the need for better inventory management and quality control to meet customer expectations.\n",
       "\n",
       "### Theme 5: Employee Treatment and Staffing\n",
       "**Summary:** Concerns were raised about the treatment of employees and the impact of understaffing on service quality. Respondents noted that employees often seem overworked and underpaid, which affects their ability to provide good service.\n",
       "\n",
       "### Theme 6: Pricing and Value Perception\n",
       "**Summary:** Some customers expressed dissatisfaction with pricing, feeling that Walmart's prices are not as competitive as they used to be. There is also a desire for more transparency and consistency in pricing, as well as better deals and promotions.\n",
       "\n",
       "### Theme 7: Store Hours and Accessibility\n",
       "**Summary:** A few respondents mentioned the inconvenience of reduced store hours and the lack of 24-hour availability. This theme highlights the importance of accessibility and convenience in meeting customer needs.\n",
       "\n",
       "### Theme 8: Racial Profiling and Discrimination\n",
       "**Summary:** A serious concern raised by a respondent involved racial profiling and discrimination experienced in the store. This theme emphasizes the need for Walmart to address and prevent discriminatory practices to ensure a welcoming environment for all customers."
      ],
      "text/plain": [
       "<IPython.core.display.Markdown object>"
      ]
     },
     "metadata": {},
     "output_type": "display_data"
    }
   ],
   "source": [
    "prompt = f\"\"\"\n",
    "You are an experienced market researcher. You are given a question and a list of responses. Your job is to extract themes from the responses.\n",
    "\n",
    "For each theme, come up with a name that captures the theme, and a summary, that gives more context on the theme.\n",
    "It is important that the themes are not overlapping, and that they are not too general or too specific.\n",
    "\n",
    "Question: {question}\n",
    "\n",
    "Responses:\n",
    "{formatted_responses}\n",
    "\"\"\"\n",
    "answer = client.chat.completions.create(\n",
    "    model=\"gpt-4o\",\n",
    "    temperature=0,\n",
    "    messages=[{\"role\": \"user\", \"content\": prompt}],\n",
    ").choices[0].message.content\n",
    "\n",
    "display(Markdown(answer))"
   ]
  },
  {
   "cell_type": "markdown",
   "id": "c97aa636-4cf9-4b4e-81b9-da0f9248dd73",
   "metadata": {},
   "source": [
    "## Prompt 2: Research Terminology and more specific instructions"
   ]
  },
  {
   "cell_type": "code",
   "execution_count": null,
   "id": "18bc10af-6a0e-43ab-9e63-869ba2e8d555",
   "metadata": {},
   "outputs": [
    {
     "data": {
      "text/markdown": [
       "### Theme Name: Insufficient Checkout Staffing\n",
       "- **Summary:** A significant number of customers express frustration over the lack of open checkout lanes, both staffed and self-service, leading to long wait times. This issue is exacerbated during peak shopping hours and holidays, causing inconvenience and dissatisfaction. Customers feel that the store should employ more cashiers to improve the checkout experience, especially for those who prefer not to use self-checkout or have large quantities of items. The lack of open lanes is seen as a failure to provide efficient service, impacting the overall shopping experience negatively.\n",
       "\n",
       "### Theme Name: Poor Customer Service\n",
       "- **Summary:** Many customers report negative experiences with Walmart's customer service, citing rude and unhelpful staff. This includes difficulty in finding assistance when needed, dismissive attitudes, and a lack of initiative to help customers. Such experiences lead to dissatisfaction and deter customers from returning. Improving customer service is crucial for enhancing customer satisfaction and loyalty, as it directly affects the perception of the store and the likelihood of repeat business.\n",
       "\n",
       "### Theme Name: Store Cleanliness and Organization\n",
       "- **Summary:** Customers frequently mention issues with the cleanliness and organization of Walmart stores. Complaints include dirty bathrooms, cluttered aisles, and disorganized shelves, which make it difficult to find items. Cleanliness is particularly emphasized due to health concerns, especially in the context of the pandemic. A well-maintained and organized store environment is essential for a positive shopping experience, as it affects both the ease of shopping and the store's overall image.\n",
       "\n",
       "### Theme Name: Product Availability and Stock Issues\n",
       "- **Summary:** There are numerous complaints about items being out of stock or not available, which frustrates customers who rely on Walmart for their shopping needs. This issue is compounded by discrepancies between online and in-store stock levels. Ensuring consistent product availability is vital for customer satisfaction, as it directly impacts the ability to complete shopping trips successfully and can drive customers to seek alternatives elsewhere.\n",
       "\n",
       "### Theme Name: Self-Checkout Concerns\n",
       "- **Summary:** While some customers appreciate the convenience of self-checkout, others express dissatisfaction with being forced to use it due to a lack of staffed lanes. Concerns include technical issues with machines, the absence of discounts for self-service, and the inconvenience for those who prefer human interaction or have large purchases. Addressing these concerns by balancing self-checkout with staffed lanes and ensuring functional equipment can improve the checkout experience.\n",
       "\n",
       "### Theme Name: Employee Treatment and Morale\n",
       "- **Summary:** Customers express concern over the treatment of Walmart employees, noting that poor morale and inadequate staffing levels contribute to negative customer service experiences. There is a call for better wages and working conditions to improve employee satisfaction, which in turn could enhance customer interactions. Addressing employee welfare is seen as a way to improve service quality and the overall shopping environment.\n",
       "\n",
       "### Theme Name: Pricing and Value Perception\n",
       "- **Summary:** Some customers feel that Walmart's pricing is not as competitive as it once was, particularly for everyday items and produce. There is a perception that prices have increased without a corresponding increase in quality or service. Ensuring competitive pricing and clear value propositions is important for maintaining Walmart's reputation as a cost-effective shopping destination and retaining price-sensitive customers."
      ],
      "text/plain": [
       "<IPython.core.display.Markdown object>"
      ]
     },
     "metadata": {},
     "output_type": "display_data"
    }
   ],
   "source": [
    "prompt = f\"\"\"\n",
    "You are a qualitative research analyst specializing in Thematic Analysis. Your task is to analyze open-ended customer feedback and systematically extract themes using qualitative coding techniques.\n",
    "\n",
    "## **Task**\n",
    "Conduct a thematic analysis of the provided responses by:\n",
    "1. Identifying recurring patterns across responses. Only themes that appear multiple times should be included.\n",
    "2. Assigning a concise, descriptive theme label that represents the core idea.\n",
    "3. Writing a detailed summary that provides additional context beyond the label, highlighting key aspects and nuances that the name alone may not fully capture.\n",
    "\n",
    "## **Methodological Guidelines**\n",
    "- Ensure mutual exclusivity: themes should not significantly overlap in meaning.\n",
    "- Theme names should be short and precise, while summaries should explain the broader context, implications, and nuances.\n",
    "- Maintain actionability: the summary should articulate why the theme is relevant and its impact on customer experience.\n",
    "\n",
    "## **Output Format**\n",
    "Each theme should follow this structure:\n",
    "\n",
    "- Theme Name: (Concise label representing the central idea)\n",
    "- Summary: (Detailed description providing context, key aspects, and nuances)\n",
    "\n",
    "## **Question Context**\n",
    "{question}\n",
    "\n",
    "## **Dataset**\n",
    "{formatted_responses}\n",
    "\"\"\"\n",
    "answer = client.chat.completions.create(\n",
    "    model=\"gpt-4o\",\n",
    "    temperature=0,\n",
    "    messages=[{\"role\": \"user\", \"content\": prompt}],\n",
    ").choices[0].message.content\n",
    "\n",
    "display(Markdown(answer))"
   ]
  },
  {
   "cell_type": "markdown",
   "id": "b9f8da34-192f-4a7a-be0d-b2eea3d99515",
   "metadata": {},
   "source": [
    "## Prompt 3: Examples / Multi-shot"
   ]
  },
  {
   "cell_type": "code",
   "execution_count": null,
   "id": "5bfae51e-e067-45d8-b863-afd777410ebc",
   "metadata": {},
   "outputs": [
    {
     "data": {
      "text/markdown": [
       "Based on the provided dataset of customer feedback, I have conducted a thematic analysis and identified several recurring themes. Here are the themes along with their summaries:\n",
       "\n",
       "- **Theme Name: Insufficient Checkout Staffing**\n",
       "  - **Summary:** A prevalent concern among customers is the lack of open checkout lanes, leading to long wait times. Many express frustration with the reliance on self-checkout systems, which are often crowded and not preferred by all customers, especially those with large purchases or those who are not comfortable with technology. The limited number of staffed registers, particularly during peak hours, exacerbates this issue, making the checkout process a significant pain point. Customers suggest that increasing the number of open registers and hiring more cashiers could improve the shopping experience by reducing wait times and providing a more personalized service.\n",
       "\n",
       "- **Theme Name: Poor Customer Service**\n",
       "  - **Summary:** Numerous responses highlight dissatisfaction with the quality of customer service. Customers report experiences with rude or unhelpful staff, difficulty in finding assistance when needed, and a general lack of employee engagement. This theme underscores the importance of customer service training and the need for employees to be more attentive and approachable. Improving customer service is crucial for enhancing customer satisfaction and encouraging repeat visits.\n",
       "\n",
       "- **Theme Name: Store Cleanliness and Organization**\n",
       "  - **Summary:** Customers frequently mention issues with store cleanliness and organization. Complaints include dirty restrooms, cluttered aisles, and disorganized shelves, which make it difficult to find items. The pandemic has heightened concerns about cleanliness, with customers expecting higher hygiene standards. Addressing these issues by maintaining a clean and well-organized store environment can significantly improve the shopping experience and customer perception of the brand.\n",
       "\n",
       "- **Theme Name: Product Availability and Stock Issues**\n",
       "  - **Summary:** Many customers express frustration with the frequent unavailability of products and inconsistent stock levels. Items are often out of stock, and online inventory does not always match in-store availability. This inconsistency leads to inconvenience and dissatisfaction, as customers may need to visit multiple locations to find desired products. Improving inventory management and ensuring better stock levels can enhance customer satisfaction and reduce frustration.\n",
       "\n",
       "- **Theme Name: Employee Treatment and Morale**\n",
       "  - **Summary:** Feedback indicates concerns about how employees are treated and their overall morale. Customers perceive that employees are overworked, underpaid, and not adequately supported, which affects their ability to provide good service. There is a call for better wages, benefits, and working conditions to improve employee satisfaction and performance. Addressing these issues can lead to a more motivated workforce and better customer interactions.\n",
       "\n",
       "These themes provide actionable insights into areas where improvements can be made to enhance the overall customer experience at Walmart."
      ],
      "text/plain": [
       "<IPython.core.display.Markdown object>"
      ]
     },
     "metadata": {},
     "output_type": "display_data"
    }
   ],
   "source": [
    "prompt = f\"\"\"\n",
    "You are a qualitative research analyst specializing in Thematic Analysis. Your task is to analyze open-ended customer feedback and systematically extract themes using qualitative coding techniques.\n",
    "\n",
    "## **Task**\n",
    "Conduct a thematic analysis of the provided responses by:\n",
    "1. Identifying recurring patterns across responses. Only themes that appear multiple times should be included.\n",
    "2. Assigning a concise, descriptive theme label that represents the core idea.\n",
    "3. Writing a detailed summary that provides additional context beyond the label, highlighting key aspects and nuances that the name alone may not fully capture.\n",
    "\n",
    "## **Methodological Guidelines**\n",
    "- Ensure mutual exclusivity: themes should not significantly overlap in meaning.\n",
    "- Theme names should be short and precise, while summaries should explain the broader context, implications, and nuances.\n",
    "- Maintain actionability: the summary should articulate why the theme is relevant and its impact on customer experience.\n",
    "\n",
    "## **Output Format**\n",
    "Each theme should follow this structure:\n",
    "\n",
    "- Theme Name: (Concise label representing the central idea)\n",
    "- Summary: (Detailed description providing context, key aspects, and nuances)\n",
    "\n",
    "## **Examples**\n",
    "\n",
    "**Example 1**: Good theme\n",
    "\n",
    "- Theme Name: Long Checkout Lines\n",
    "- Summary: A significant number of responses highlight the frustration with long checkout lines due to insufficient staffing. Customers express dissatisfaction with the limited number of open registers, especially during peak hours, leading to extended wait times. This issue is exacerbated by the reliance on self-checkout lanes, which many customers find inconvenient or unsuitable, particularly for those with large purchases or those who prefer human interaction. The lack of cashiers not only affects the speed of service but also the overall shopping experience, as customers feel neglected and undervalued.\n",
    "\n",
    "This theme is specific and actionable. It highlights a clear operational issue—insufficient staffing at checkout lanes, particularly during busy times. The summary provides enough context to suggest possible solutions (e.g., opening more registers, improving staffing) to address the pain point, making it actionable for process improvements.\n",
    "\n",
    "**Example 2**: Bad theme\n",
    "\n",
    "- Theme Name: Customer Service Issues\n",
    "- Summary: Many responses highlight dissatisfaction with Walmart's customer service, noting poor service quality, lack of empathy, and the prioritization of profit over customer satisfaction. This theme reflects a significant pain point for customers, affecting their overall experience and perception of the brand.\n",
    "\n",
    "This theme is too general and vague to be actionable. While customer service dissatisfaction is a valid concern, the theme lacks specificity in identifying which aspects of service need improvement (e.g., wait times, employee behavior, training). It also doesn't suggest concrete solutions or areas for operational change. A more focused theme like \"Long Checkout Lines\" provides a specific, actionable area for improvement, whereas \"Customer Service Issues\" fails to do so.\n",
    "\n",
    "## **Question Context**\n",
    "{question}\n",
    "\n",
    "## **Dataset**\n",
    "{formatted_responses}\n",
    "\"\"\"\n",
    "answer = client.chat.completions.create(\n",
    "    model=\"gpt-4o\",\n",
    "    temperature=0,\n",
    "    messages=[{\"role\": \"user\", \"content\": prompt}],\n",
    ").choices[0].message.content\n",
    "\n",
    "display(Markdown(answer))"
   ]
  },
  {
   "cell_type": "markdown",
   "id": "6f34eda0-9c3e-447d-a6f8-132225b8c343",
   "metadata": {},
   "source": [
    "## Prompt 4: Reduce overlap"
   ]
  },
  {
   "cell_type": "code",
   "execution_count": null,
   "id": "137d6380-d26e-4c1d-9eef-2f984314fabb",
   "metadata": {},
   "outputs": [
    {
     "data": {
      "text/markdown": [
       "Based on the provided dataset of customer feedback, I have identified several recurring themes that reflect significant concerns and sentiments expressed by customers. Here are the most prominent themes:\n",
       "\n",
       "- **Theme Name: Insufficient Checkout Staffing**\n",
       "  - **Summary**: A prevalent issue among customers is the frustration with long checkout lines due to a lack of open registers and insufficient staffing. Many customers express dissatisfaction with being forced to use self-checkout lanes, which are often crowded and not preferred, especially for those with large purchases or who require assistance. This issue is exacerbated during peak hours and holidays, leading to extended wait times and a negative shopping experience. Customers feel that the lack of human cashiers not only slows down the checkout process but also diminishes the personal interaction they expect during their shopping experience. Addressing this issue by increasing the number of staffed checkout lanes could significantly improve customer satisfaction and reduce wait times.\n",
       "\n",
       "- **Theme Name: Poor Customer Service**\n",
       "  - **Summary**: Numerous responses highlight dissatisfaction with the quality of customer service, citing rude and unhelpful staff as a major concern. Customers report feeling neglected and undervalued, with employees often appearing disinterested or dismissive. This lack of engagement and assistance affects the overall shopping experience, as customers struggle to find help when needed. Improving customer service through better training and fostering a more customer-oriented culture could enhance the shopping experience and encourage repeat visits.\n",
       "\n",
       "- **Theme Name: Store Cleanliness and Organization**\n",
       "  - **Summary**: Customers frequently mention issues with store cleanliness and organization, noting that stores are often messy, with cluttered aisles and unclean facilities, particularly restrooms. This lack of cleanliness is especially concerning in the context of the ongoing pandemic, where hygiene is of utmost importance. Additionally, the constant rearrangement of store layouts makes it difficult for customers to find items, leading to frustration and a less efficient shopping experience. Enhancing store cleanliness and maintaining a consistent layout could improve customer satisfaction and ease of shopping.\n",
       "\n",
       "- **Theme Name: Product Availability and Stock Issues**\n",
       "  - **Summary**: A recurring theme is the frustration with out-of-stock items and inconsistent product availability. Customers often find that items they need are not available, leading them to visit multiple stores or seek alternatives. This issue is compounded by discrepancies between online stock levels and in-store availability, causing further inconvenience. Improving inventory management and ensuring better stock levels could enhance customer satisfaction and reduce the need for customers to shop elsewhere.\n",
       "\n",
       "- **Theme Name: Self-Checkout Concerns**\n",
       "  - **Summary**: While some customers appreciate the convenience of self-checkout, many express concerns about the over-reliance on these systems. Customers feel that self-checkout should not replace human cashiers, as it can be challenging for those who are not tech-savvy or have large purchases. Additionally, issues with malfunctioning self-checkout machines and a lack of assistance when problems arise contribute to a frustrating experience. Balancing the use of self-checkout with adequate staffing of traditional registers could address these concerns and improve the overall checkout experience.\n",
       "\n",
       "These themes reflect the most significant and recurring issues raised by customers, providing actionable insights for improving the customer experience at Walmart."
      ],
      "text/plain": [
       "<IPython.core.display.Markdown object>"
      ]
     },
     "metadata": {},
     "output_type": "display_data"
    }
   ],
   "source": [
    "prompt = f\"\"\"\n",
    "You are a qualitative research analyst specializing in Thematic Analysis. Your task is to analyze open-ended customer feedback and systematically extract distinct, recurring themes using qualitative coding techniques.\n",
    "\n",
    "## **Task**\n",
    "Conduct a thematic analysis of the provided responses by:\n",
    "1. Identifying recurring patterns across responses. Only themes that appear multiple times should be included.\n",
    "2. Assigning a concise, descriptive theme label that represents the core idea.\n",
    "3. Writing a detailed summary that provides additional context beyond the label, highlighting key aspects and nuances that the name alone may not fully capture.\n",
    "4. **Focus on identifying the most significant, recurring themes**—avoid identifying too many themes. Ensure each theme is distinct, and only capture the central, most relevant issues.\n",
    "\n",
    "## **Methodological Guidelines**\n",
    "- Ensure mutual exclusivity: themes should be distinct and should **not overlap significantly** in meaning.\n",
    "- Avoid creating too many themes; focus on the most important, recurring issues that truly reflect customer sentiments.\n",
    "- Theme names should be short and precise, while summaries should provide detailed context, implications, and nuances.\n",
    "- Maintain actionability: the summary should explain why the theme is relevant and its impact on customer experience.\n",
    "\n",
    "**Example 1**: Good theme\n",
    "\n",
    "- Theme Name: Long Checkout Lines\n",
    "- Summary: A significant number of responses highlight the frustration with long checkout lines due to insufficient staffing. Customers express dissatisfaction with the limited number of open registers, especially during peak hours, leading to extended wait times. This issue is exacerbated by the reliance on self-checkout lanes, which many customers find inconvenient or unsuitable, particularly for those with large purchases or those who prefer human interaction. The lack of cashiers not only affects the speed of service but also the overall shopping experience, as customers feel neglected and undervalued.\n",
    "\n",
    "This theme is specific and actionable. It highlights a clear operational issue—insufficient staffing at checkout lanes, particularly during busy times. The summary provides enough context to suggest possible solutions (e.g., opening more registers, improving staffing) to address the pain point, making it actionable for process improvements.\n",
    "\n",
    "**Example 2**: Bad theme\n",
    "\n",
    "- Theme Name: Customer Service Issues\n",
    "- Summary: Many responses highlight dissatisfaction with Walmart's customer service, noting poor service quality, lack of empathy, and the prioritization of profit over customer satisfaction. This theme reflects a significant pain point for customers, affecting their overall experience and perception of the brand.\n",
    "\n",
    "This theme is too general and vague to be actionable. While customer service dissatisfaction is a valid concern, the theme lacks specificity in identifying which aspects of service need improvement (e.g., wait times, employee behavior, training). It also doesn't suggest concrete solutions or areas for operational change. A more focused theme like \"Long Checkout Lines\" provides a specific, actionable area for improvement, whereas \"Customer Service Issues\" fails to do so.\n",
    "\n",
    "## **Output Format**\n",
    "Each theme should follow this structure:\n",
    "\n",
    "- Theme Name: (Concise label representing the central idea)\n",
    "- Summary: (Detailed description providing context, key aspects, and nuances)\n",
    "\n",
    "## **Question Context**\n",
    "{question}\n",
    "\n",
    "## **Dataset**\n",
    "{formatted_responses}\n",
    "\n",
    "## **Closing Reminder**\n",
    "**Remember**: Focus on **distinct**, **non-overlapping themes** that truly reflect the key concerns raised by the customers. Avoid creating too many themes and ensure each theme is meaningful and actionable.\n",
    "\"\"\"\n",
    "\n",
    "answer = client.chat.completions.create(\n",
    "    model=\"gpt-4o\",\n",
    "    temperature=0,\n",
    "    messages=[{\"role\": \"user\", \"content\": prompt}],\n",
    ").choices[0].message.content\n",
    "\n",
    "display(Markdown(answer))"
   ]
  },
  {
   "cell_type": "markdown",
   "id": "7a87a287-46e5-4d42-8f4d-40d725610278",
   "metadata": {},
   "source": [
    "## Check prompt with different question"
   ]
  },
  {
   "cell_type": "code",
   "execution_count": 9,
   "id": "b11f10b7-8230-4848-ae6e-6a7ab6608f41",
   "metadata": {},
   "outputs": [],
   "source": [
    "question = \"What do you LOVE most about Walmart?\"\n",
    "cleaned_responses = clean_responses(df[question])\n",
    "formatted_responses = \"\\n\".join(cleaned_responses)"
   ]
  },
  {
   "cell_type": "code",
   "execution_count": null,
   "id": "59c6bd91-b9d6-411a-ae00-9a284ac49073",
   "metadata": {},
   "outputs": [
    {
     "data": {
      "text/markdown": [
       "Based on the provided customer feedback, I have identified the most significant recurring themes. These themes reflect the core aspects that customers appreciate about Walmart. Here are the themes along with their summaries:\n",
       "\n",
       "- **Theme Name: Low Prices**\n",
       "  - **Summary**: A predominant theme across the feedback is Walmart's competitive pricing. Customers frequently mention the affordability of products, highlighting that Walmart offers low prices on a wide range of items. This affordability is a key factor in customer satisfaction, as it allows shoppers to purchase more within their budget. The emphasis on low prices is often linked to the perception of value for money, making Walmart a preferred shopping destination for cost-conscious consumers.\n",
       "\n",
       "- **Theme Name: Product Variety**\n",
       "  - **Summary**: Many customers appreciate the extensive variety of products available at Walmart. The feedback indicates that Walmart is seen as a \"one-stop shop\" where customers can find almost everything they need, from groceries and clothing to electronics and home goods. This wide selection is particularly valued for its convenience, as it reduces the need for multiple shopping trips to different stores. The availability of diverse product categories under one roof enhances the overall shopping experience and meets a broad range of customer needs.\n",
       "\n",
       "- **Theme Name: Convenience**\n",
       "  - **Summary**: Convenience is a recurring theme, with customers valuing Walmart's accessibility and ease of shopping. The presence of Walmart stores in numerous locations, often close to customers' homes, is a significant advantage. Additionally, the availability of services such as online shopping, curbside pickup, and delivery options further enhances convenience. Customers appreciate the ability to shop quickly and efficiently, whether in-store or online, which fits well with their busy lifestyles.\n",
       "\n",
       "- **Theme Name: Friendly Employees**\n",
       "  - **Summary**: Several responses highlight the positive interactions with Walmart employees. Customers note that staff members are generally friendly, helpful, and attentive to their needs. This positive customer service experience contributes to a welcoming shopping environment and enhances customer satisfaction. The presence of approachable and supportive employees is seen as a valuable aspect of the Walmart shopping experience, fostering a sense of community and customer loyalty.\n",
       "\n",
       "These themes capture the most significant aspects of customer appreciation for Walmart, focusing on affordability, variety, convenience, and customer service. Each theme is distinct and actionable, providing insights into areas where Walmart excels and can continue to build upon to enhance customer satisfaction."
      ],
      "text/plain": [
       "<IPython.core.display.Markdown object>"
      ]
     },
     "metadata": {},
     "output_type": "display_data"
    }
   ],
   "source": [
    "prompt = f\"\"\"\n",
    "You are a qualitative research analyst specializing in Thematic Analysis. Your task is to analyze open-ended customer feedback and systematically extract distinct, recurring themes using qualitative coding techniques.\n",
    "\n",
    "## **Task**\n",
    "Conduct a thematic analysis of the provided responses by:\n",
    "1. Identifying recurring patterns across responses. Only themes that appear multiple times should be included.\n",
    "2. Assigning a concise, descriptive theme label that represents the core idea.\n",
    "3. Writing a detailed summary that provides additional context beyond the label, highlighting key aspects and nuances that the name alone may not fully capture.\n",
    "4. **Focus on identifying the most significant, recurring themes**—avoid identifying too many themes. Ensure each theme is distinct, and only capture the central, most relevant issues.\n",
    "\n",
    "## **Methodological Guidelines**\n",
    "- Ensure mutual exclusivity: themes should be distinct and should **not overlap significantly** in meaning.\n",
    "- Avoid creating too many themes; focus on the most important, recurring issues that truly reflect customer sentiments.\n",
    "- Theme names should be short and precise, while summaries should provide detailed context, implications, and nuances.\n",
    "- Maintain actionability: the summary should explain why the theme is relevant and its impact on customer experience.\n",
    "\n",
    "**Example 1**: Good theme\n",
    "\n",
    "- Theme Name: Long Checkout Lines\n",
    "- Summary: A significant number of responses highlight the frustration with long checkout lines due to insufficient staffing. Customers express dissatisfaction with the limited number of open registers, especially during peak hours, leading to extended wait times. This issue is exacerbated by the reliance on self-checkout lanes, which many customers find inconvenient or unsuitable, particularly for those with large purchases or those who prefer human interaction. The lack of cashiers not only affects the speed of service but also the overall shopping experience, as customers feel neglected and undervalued.\n",
    "\n",
    "This theme is specific and actionable. It highlights a clear operational issue—insufficient staffing at checkout lanes, particularly during busy times. The summary provides enough context to suggest possible solutions (e.g., opening more registers, improving staffing) to address the pain point, making it actionable for process improvements.\n",
    "\n",
    "**Example 2**: Bad theme\n",
    "\n",
    "- Theme Name: Customer Service Issues\n",
    "- Summary: Many responses highlight dissatisfaction with Walmart's customer service, noting poor service quality, lack of empathy, and the prioritization of profit over customer satisfaction. This theme reflects a significant pain point for customers, affecting their overall experience and perception of the brand.\n",
    "\n",
    "This theme is too general and vague to be actionable. While customer service dissatisfaction is a valid concern, the theme lacks specificity in identifying which aspects of service need improvement (e.g., wait times, employee behavior, training). It also doesn't suggest concrete solutions or areas for operational change. A more focused theme like \"Long Checkout Lines\" provides a specific, actionable area for improvement, whereas \"Customer Service Issues\" fails to do so.\n",
    "\n",
    "## **Output Format**\n",
    "Each theme should follow this structure:\n",
    "\n",
    "- Theme Name: (Concise label representing the central idea)\n",
    "- Summary: (Detailed description providing context, key aspects, and nuances)\n",
    "\n",
    "## **Question Context**\n",
    "{question}\n",
    "\n",
    "## **Dataset**\n",
    "{formatted_responses}\n",
    "\n",
    "## **Closing Reminder**\n",
    "**Remember**: Focus on **distinct**, **non-overlapping themes** that truly reflect the key concerns raised by the customers. Avoid creating too many themes and ensure each theme is meaningful and actionable.\n",
    "\"\"\"\n",
    "\n",
    "answer = client.chat.completions.create(\n",
    "    model=\"gpt-4o\",\n",
    "    temperature=0,\n",
    "    messages=[{\"role\": \"user\", \"content\": prompt}],\n",
    ").choices[0].message.content\n",
    "\n",
    "display(Markdown(answer))"
   ]
  },
  {
   "cell_type": "markdown",
   "id": "cf86167e-7bb5-42d6-901b-ff61d8b821f3",
   "metadata": {},
   "source": [
    "## Structured Output\n",
    "\n",
    "A quick test of how OpenAI's structured output works. While this is still a beta endpoint, I know other libraries can achieve similar results.\n",
    "\n",
    "Following OpenAI's documentation here: https://platform.openai.com/docs/guides/structured-outputs?api-mode=chat"
   ]
  },
  {
   "cell_type": "code",
   "execution_count": 11,
   "id": "3652bb16-d135-4719-9afb-2fcbc6a00314",
   "metadata": {},
   "outputs": [],
   "source": [
    "from pydantic import BaseModel, Field\n",
    "\n",
    "class Theme(BaseModel):\n",
    "    name: str = Field(\n",
    "        ..., description=\"A concise label that represents the central idea of the theme\"\n",
    "    )\n",
    "    summary: str = Field(\n",
    "        ...,\n",
    "        description=\"A brief summary of the theme that provides additional context beyond the name. It should highlight key aspects and nuances that the name alone may not fully capture.\",\n",
    "    )\n",
    "\n",
    "    def __str__(self) -> str:\n",
    "        return f\"NAME: {self.name}\\nSUMMARY: {self.summary}\\n\\n\"\n",
    "\n",
    "class ThemesResponse(BaseModel):\n",
    "    themes: list[Theme] = Field(\n",
    "        ...,\n",
    "        description=\"A list of themes extracted from the responses. Each theme should be a concise label and a summary that provides additional context beyond the name.\",\n",
    "    )"
   ]
  },
  {
   "cell_type": "code",
   "execution_count": 12,
   "id": "ac0989c4-27c8-46ca-8edb-98d9e239edd1",
   "metadata": {},
   "outputs": [
    {
     "name": "stdout",
     "output_type": "stream",
     "text": [
      "NAME: Wide Product Variety\n",
      "SUMMARY: Many customers appreciate Walmart's extensive range of products, which allows them to find almost everything they need in one location. This variety spans groceries, electronics, clothing, home goods, and more, making it a convenient one-stop shop. The availability of diverse items under one roof simplifies shopping and saves time, as customers can complete multiple errands in a single trip.\n",
      "\n",
      "\n",
      "NAME: Affordable Prices\n",
      "SUMMARY: A recurring theme is the appreciation for Walmart's low prices, which are often highlighted as competitive and budget-friendly. Customers value the ability to purchase a wide range of products at reasonable costs, which helps them manage their budgets effectively. The perception of good value for money is a significant factor in customer satisfaction and loyalty.\n",
      "\n",
      "\n",
      "NAME: Convenience and Accessibility\n",
      "SUMMARY: Customers frequently mention the convenience of Walmart's locations, often noting that stores are nearby and easily accessible. The extended hours of operation and the availability of online shopping and curbside pickup further enhance convenience, allowing customers to shop at their own pace and preference. This accessibility is a key driver of customer loyalty.\n",
      "\n",
      "\n",
      "NAME: Customer Service and Employee Friendliness\n",
      "SUMMARY: While not as dominant as other themes, some customers appreciate the friendliness and helpfulness of Walmart employees. Positive interactions with staff contribute to a pleasant shopping experience, although this theme is less consistently mentioned compared to product variety and pricing.\n",
      "\n",
      "\n"
     ]
    }
   ],
   "source": [
    "answer = client.beta.chat.completions.parse(\n",
    "    model=\"gpt-4o\",\n",
    "    temperature=0,\n",
    "    messages=[{\"role\": \"user\", \"content\": prompt}],\n",
    "    response_format=ThemesResponse\n",
    ").choices[0].message.content\n",
    "\n",
    "themes_response = ThemesResponse.model_validate_json(answer)\n",
    "for theme in themes_response.themes:\n",
    "    print(theme)"
   ]
  }
 ],
 "metadata": {
  "kernelspec": {
   "display_name": "Python 3 (ipykernel)",
   "language": "python",
   "name": "python3"
  },
  "language_info": {
   "codemirror_mode": {
    "name": "ipython",
    "version": 3
   },
   "file_extension": ".py",
   "mimetype": "text/x-python",
   "name": "python",
   "nbconvert_exporter": "python",
   "pygments_lexer": "ipython3",
   "version": "3.13.2"
  }
 },
 "nbformat": 4,
 "nbformat_minor": 5
}
